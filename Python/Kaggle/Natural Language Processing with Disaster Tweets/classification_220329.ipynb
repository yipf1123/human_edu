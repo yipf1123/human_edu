{
 "cells": [
  {
   "cell_type": "markdown",
   "id": "8ffa1f3e-0c8f-43d7-9f0e-499ccef9c81e",
   "metadata": {},
   "source": [
    "## 자연어 처리 & 분류 모형 예제\n",
    "- You are predicting whether a given tweet is about a real disaster or not. \n",
    "- If so, predict a 1. If not, predict a 0."
   ]
  },
  {
   "cell_type": "markdown",
   "id": "39684f75-02ce-483f-829e-38c6793c5708",
   "metadata": {
    "tags": []
   },
   "source": [
    "## 텍스트 분석 처리 과정 (딥러닝을 이용한 자연어 처리 입문https://wikidocs.net/book/2155)\n",
    "1. 데이터 수집(ex. 크롤링)\n",
    "2. 텍스트 전처리(ex. 특수문자 삭제, 어근 추출 등)\n",
    "3. 문자를 숫자로 변환(Count, TF-IDF)\n",
    "4. 머신러닝 모델 학습 및 평가"
   ]
  },
  {
   "cell_type": "code",
   "execution_count": 84,
   "id": "82e54c07-f73c-4151-81ce-db4c3b4ec957",
   "metadata": {
    "tags": []
   },
   "outputs": [
    {
     "data": {
      "text/html": [
       "<div>\n",
       "<style scoped>\n",
       "    .dataframe tbody tr th:only-of-type {\n",
       "        vertical-align: middle;\n",
       "    }\n",
       "\n",
       "    .dataframe tbody tr th {\n",
       "        vertical-align: top;\n",
       "    }\n",
       "\n",
       "    .dataframe thead th {\n",
       "        text-align: right;\n",
       "    }\n",
       "</style>\n",
       "<table border=\"1\" class=\"dataframe\">\n",
       "  <thead>\n",
       "    <tr style=\"text-align: right;\">\n",
       "      <th></th>\n",
       "      <th>id</th>\n",
       "      <th>keyword</th>\n",
       "      <th>location</th>\n",
       "      <th>text</th>\n",
       "      <th>target</th>\n",
       "    </tr>\n",
       "  </thead>\n",
       "  <tbody>\n",
       "    <tr>\n",
       "      <th>0</th>\n",
       "      <td>1</td>\n",
       "      <td>NaN</td>\n",
       "      <td>NaN</td>\n",
       "      <td>Our Deeds are the Reason of this #earthquake M...</td>\n",
       "      <td>1</td>\n",
       "    </tr>\n",
       "    <tr>\n",
       "      <th>1</th>\n",
       "      <td>4</td>\n",
       "      <td>NaN</td>\n",
       "      <td>NaN</td>\n",
       "      <td>Forest fire near La Ronge Sask. Canada</td>\n",
       "      <td>1</td>\n",
       "    </tr>\n",
       "    <tr>\n",
       "      <th>2</th>\n",
       "      <td>5</td>\n",
       "      <td>NaN</td>\n",
       "      <td>NaN</td>\n",
       "      <td>All residents asked to 'shelter in place' are ...</td>\n",
       "      <td>1</td>\n",
       "    </tr>\n",
       "    <tr>\n",
       "      <th>3</th>\n",
       "      <td>6</td>\n",
       "      <td>NaN</td>\n",
       "      <td>NaN</td>\n",
       "      <td>13,000 people receive #wildfires evacuation or...</td>\n",
       "      <td>1</td>\n",
       "    </tr>\n",
       "    <tr>\n",
       "      <th>4</th>\n",
       "      <td>7</td>\n",
       "      <td>NaN</td>\n",
       "      <td>NaN</td>\n",
       "      <td>Just got sent this photo from Ruby #Alaska as ...</td>\n",
       "      <td>1</td>\n",
       "    </tr>\n",
       "  </tbody>\n",
       "</table>\n",
       "</div>"
      ],
      "text/plain": [
       "   id keyword location                                               text  \\\n",
       "0   1     NaN      NaN  Our Deeds are the Reason of this #earthquake M...   \n",
       "1   4     NaN      NaN             Forest fire near La Ronge Sask. Canada   \n",
       "2   5     NaN      NaN  All residents asked to 'shelter in place' are ...   \n",
       "3   6     NaN      NaN  13,000 people receive #wildfires evacuation or...   \n",
       "4   7     NaN      NaN  Just got sent this photo from Ruby #Alaska as ...   \n",
       "\n",
       "   target  \n",
       "0       1  \n",
       "1       1  \n",
       "2       1  \n",
       "3       1  \n",
       "4       1  "
      ]
     },
     "execution_count": 84,
     "metadata": {},
     "output_type": "execute_result"
    }
   ],
   "source": [
    "import pandas as pd\n",
    "DATA_PATH = 'nlp-getting-started/'\n",
    "train = pd.read_csv(DATA_PATH + 'train.csv')\n",
    "train.head()"
   ]
  },
  {
   "cell_type": "markdown",
   "id": "7cb4820c-635f-4986-8108-e2fb5d095656",
   "metadata": {},
   "source": [
    "- 데이터 파일에 뭐 들었는지 확인하는 법"
   ]
  },
  {
   "cell_type": "code",
   "execution_count": 85,
   "id": "da9a7c35-499b-43b5-82d8-a79f8bab8efe",
   "metadata": {
    "tags": []
   },
   "outputs": [],
   "source": [
    "#import os \n",
    "\n",
    "#DATA_PATH = \"./\"\n",
    "#for file in os.listdir(DATA_PATH):\n",
    "#    print(file)"
   ]
  },
  {
   "cell_type": "code",
   "execution_count": 86,
   "id": "1ed03b3d-ce5d-4b84-816c-72fbb517d7d0",
   "metadata": {
    "tags": []
   },
   "outputs": [
    {
     "data": {
      "text/html": [
       "<div>\n",
       "<style scoped>\n",
       "    .dataframe tbody tr th:only-of-type {\n",
       "        vertical-align: middle;\n",
       "    }\n",
       "\n",
       "    .dataframe tbody tr th {\n",
       "        vertical-align: top;\n",
       "    }\n",
       "\n",
       "    .dataframe thead th {\n",
       "        text-align: right;\n",
       "    }\n",
       "</style>\n",
       "<table border=\"1\" class=\"dataframe\">\n",
       "  <thead>\n",
       "    <tr style=\"text-align: right;\">\n",
       "      <th></th>\n",
       "      <th>id</th>\n",
       "      <th>keyword</th>\n",
       "      <th>location</th>\n",
       "      <th>text</th>\n",
       "    </tr>\n",
       "  </thead>\n",
       "  <tbody>\n",
       "    <tr>\n",
       "      <th>0</th>\n",
       "      <td>0</td>\n",
       "      <td>NaN</td>\n",
       "      <td>NaN</td>\n",
       "      <td>Just happened a terrible car crash</td>\n",
       "    </tr>\n",
       "    <tr>\n",
       "      <th>1</th>\n",
       "      <td>2</td>\n",
       "      <td>NaN</td>\n",
       "      <td>NaN</td>\n",
       "      <td>Heard about #earthquake is different cities, s...</td>\n",
       "    </tr>\n",
       "    <tr>\n",
       "      <th>2</th>\n",
       "      <td>3</td>\n",
       "      <td>NaN</td>\n",
       "      <td>NaN</td>\n",
       "      <td>there is a forest fire at spot pond, geese are...</td>\n",
       "    </tr>\n",
       "    <tr>\n",
       "      <th>3</th>\n",
       "      <td>9</td>\n",
       "      <td>NaN</td>\n",
       "      <td>NaN</td>\n",
       "      <td>Apocalypse lighting. #Spokane #wildfires</td>\n",
       "    </tr>\n",
       "    <tr>\n",
       "      <th>4</th>\n",
       "      <td>11</td>\n",
       "      <td>NaN</td>\n",
       "      <td>NaN</td>\n",
       "      <td>Typhoon Soudelor kills 28 in China and Taiwan</td>\n",
       "    </tr>\n",
       "  </tbody>\n",
       "</table>\n",
       "</div>"
      ],
      "text/plain": [
       "   id keyword location                                               text\n",
       "0   0     NaN      NaN                 Just happened a terrible car crash\n",
       "1   2     NaN      NaN  Heard about #earthquake is different cities, s...\n",
       "2   3     NaN      NaN  there is a forest fire at spot pond, geese are...\n",
       "3   9     NaN      NaN           Apocalypse lighting. #Spokane #wildfires\n",
       "4  11     NaN      NaN      Typhoon Soudelor kills 28 in China and Taiwan"
      ]
     },
     "execution_count": 86,
     "metadata": {},
     "output_type": "execute_result"
    }
   ],
   "source": [
    "test =  pd.read_csv(DATA_PATH + 'test.csv')\n",
    "test.head()"
   ]
  },
  {
   "cell_type": "markdown",
   "id": "72faac45-cc5d-42b7-95ee-07a13c148727",
   "metadata": {},
   "source": [
    "## 데이터셋 확인"
   ]
  },
  {
   "cell_type": "code",
   "execution_count": 87,
   "id": "61858782-f1db-4bc7-b29c-078ee835fded",
   "metadata": {
    "tags": []
   },
   "outputs": [
    {
     "data": {
      "text/plain": [
       "((7613, 5), (3263, 4))"
      ]
     },
     "execution_count": 87,
     "metadata": {},
     "output_type": "execute_result"
    }
   ],
   "source": [
    "train.shape, test.shape"
   ]
  },
  {
   "cell_type": "code",
   "execution_count": 88,
   "id": "6086e257-b16a-4255-8318-84a9581c94ff",
   "metadata": {
    "tags": []
   },
   "outputs": [
    {
     "name": "stdout",
     "output_type": "stream",
     "text": [
      "<class 'pandas.core.frame.DataFrame'>\n",
      "RangeIndex: 3263 entries, 0 to 3262\n",
      "Data columns (total 4 columns):\n",
      " #   Column    Non-Null Count  Dtype \n",
      "---  ------    --------------  ----- \n",
      " 0   id        3263 non-null   int64 \n",
      " 1   keyword   3237 non-null   object\n",
      " 2   location  2158 non-null   object\n",
      " 3   text      3263 non-null   object\n",
      "dtypes: int64(1), object(3)\n",
      "memory usage: 102.1+ KB\n"
     ]
    }
   ],
   "source": [
    "test.info()"
   ]
  },
  {
   "cell_type": "markdown",
   "id": "b9606f18-5615-4d95-a77b-1c3e79c605ad",
   "metadata": {
    "tags": []
   },
   "source": [
    "- 1이 진짜 뉴스\n",
    "- 0이 가짜 뉴스\n"
   ]
  },
  {
   "cell_type": "code",
   "execution_count": 89,
   "id": "84ab36e0-19c4-4ff5-8ca0-fe338bf0f019",
   "metadata": {},
   "outputs": [
    {
     "data": {
      "text/plain": [
       "0    4342\n",
       "1    3271\n",
       "Name: target, dtype: int64"
      ]
     },
     "execution_count": 89,
     "metadata": {},
     "output_type": "execute_result"
    }
   ],
   "source": [
    "train['target'].value_counts()"
   ]
  },
  {
   "cell_type": "code",
   "execution_count": 90,
   "id": "35037af3-a3aa-4720-a1cd-25b9fea6f2e1",
   "metadata": {},
   "outputs": [
    {
     "data": {
      "image/png": "[encoded data removed]",
      "text/plain": [
       "<Figure size 1000x600 with 1 Axes>"
      ]
     },
     "metadata": {},
     "output_type": "display_data"
    }
   ],
   "source": [
    "import matplotlib.pyplot as plt\n",
    "targets = train['target'].value_counts()\n",
    "labels = ['Non-Disaster', 'Disaster']\n",
    "\n",
    "fig, ax = plt.subplots(figsize= (10,6))\n",
    "ax.bar(labels, targets, color= ['green', 'orange'])\n",
    "plt.show()"
   ]
  },
  {
   "cell_type": "code",
   "execution_count": 91,
   "id": "7e998e32-aaad-497f-82e5-1349ed7f11e5",
   "metadata": {},
   "outputs": [
    {
     "data": {
      "image/png": "[encoded data removed]",
      "text/plain": [
       "<Figure size 1200x600 with 2 Axes>"
      ]
     },
     "metadata": {},
     "output_type": "display_data"
    }
   ],
   "source": [
    "disaster_tweet_len = train[train['target'] == 1]['text'].str.len()\n",
    "non_disaster_tweet_len = train[train['target'] == 0]['text'].str.len()\n",
    "\n",
    "fig, ax = plt.subplots(1, 2, figsize=(12, 6))\n",
    "ax[0].hist(disaster_tweet_len, color = 'green')\n",
    "ax[0].set_title('Disaster Tweet Length')\n",
    "\n",
    "ax[1].hist(non_disaster_tweet_len, color = 'red')\n",
    "ax[1].set_title('Non Disaster Tweet Length')\n",
    "plt.show()"
   ]
  },
  {
   "cell_type": "code",
   "execution_count": 92,
   "id": "d6f7d06a-2ec5-4efa-ade0-838a83b8551f",
   "metadata": {},
   "outputs": [
    {
     "data": {
      "image/png": "[encoded data removed]",
      "text/plain": [
       "<Figure size 1200x600 with 2 Axes>"
      ]
     },
     "metadata": {},
     "output_type": "display_data"
    }
   ],
   "source": [
    "fig, ax = plt.subplots(1, 2, figsize=(12, 6))\n",
    "ax[0].boxplot(disaster_tweet_len, labels = ['counts'], showmeans=True)\n",
    "ax[0].set_title('Disaster Tweet Length')\n",
    "\n",
    "ax[1].boxplot(non_disaster_tweet_len, labels = ['counts'], showmeans=True)\n",
    "ax[1].set_title('Non Disaster Tweet Length')\n",
    "\n",
    "plt.show()"
   ]
  },
  {
   "cell_type": "markdown",
   "id": "247c5861-90dc-4eb4-9849-39b7c71fc99a",
   "metadata": {},
   "source": [
    "## 워드 클라우드 작성"
   ]
  },
  {
   "cell_type": "code",
   "execution_count": 93,
   "id": "686ddee2-2aec-4ac0-8a62-0c167e28b267",
   "metadata": {},
   "outputs": [
    {
     "data": {
      "text/plain": [
       "'from wordcloud import WordCloud, STOPWORDS\\n\\ndisaster_tweet_keywords = dict(train[train[\\'target\\']==1][\\'keyword\\'].value_counts())\\nnon_disaster_tweet_keywords = dict(train[train[\\'target\\']==0][\\'keyword\\'].value_counts())\\n\\nstopwords = set(STOPWORDS)\\ndisaster_wordcloud = WordCloud(stopwords=stopwords, width=800, height=400, background_color=\"white\").generate_from_frequencies(disaster_tweet_keywords)\\nnon_disaster_wordcloud = WordCloud(stopwords=stopwords, width=800, height=400, background_color=\"white\").generate_from_frequencies(non_disaster_tweet_keywords)\\n\\n\\nfig, ax = plt.subplots(1, 2, figsize=(16, 10))\\nax[0].imshow(disaster_wordcloud, interpolation=\\'bilinear\\')\\nax[0].axis(\\'off\\')\\nax[0].set_title(\"Disaster Tweet\")\\nax[1].imshow(non_disaster_wordcloud, interpolation=\\'bilinear\\')\\nax[1].axis(\\'off\\')\\nax[1].set_title(\"Non Disaster Tweet\")\\nfig.show() '"
      ]
     },
     "execution_count": 93,
     "metadata": {},
     "output_type": "execute_result"
    }
   ],
   "source": [
    "'''from wordcloud import WordCloud, STOPWORDS\n",
    "\n",
    "disaster_tweet_keywords = dict(train[train['target']==1]['keyword'].value_counts())\n",
    "non_disaster_tweet_keywords = dict(train[train['target']==0]['keyword'].value_counts())\n",
    "\n",
    "stopwords = set(STOPWORDS)\n",
    "disaster_wordcloud = WordCloud(stopwords=stopwords, width=800, height=400, background_color=\"white\").\\\n",
    "generate_from_frequencies(disaster_tweet_keywords)\n",
    "non_disaster_wordcloud = WordCloud(stopwords=stopwords, width=800, height=400, background_color=\"white\").\\\n",
    "generate_from_frequencies(non_disaster_tweet_keywords)\n",
    "\n",
    "\n",
    "fig, ax = plt.subplots(1, 2, figsize=(16, 10))\n",
    "ax[0].imshow(disaster_wordcloud, interpolation='bilinear')\n",
    "ax[0].axis('off')\n",
    "ax[0].set_title(\"Disaster Tweet\")\n",
    "ax[1].imshow(non_disaster_wordcloud, interpolation='bilinear')\n",
    "ax[1].axis('off')\n",
    "ax[1].set_title(\"Non Disaster Tweet\")\n",
    "fig.show() '''"
   ]
  },
  {
   "cell_type": "markdown",
   "id": "3d52d0d8-df93-412a-bf40-da7f5b2f2aac",
   "metadata": {},
   "source": [
    " - 위 코드는 구글 코랩에서 돌아감"
   ]
  },
  {
   "cell_type": "markdown",
   "id": "f0dcaf60-a519-47a9-8af5-5a2930037fd8",
   "metadata": {},
   "source": [
    "## 변수 삭제"
   ]
  },
  {
   "cell_type": "code",
   "execution_count": 94,
   "id": "dae4bdf1-6c5a-4177-9ff8-5cdb2eb796f4",
   "metadata": {
    "tags": []
   },
   "outputs": [],
   "source": [
    "test_id = test['id']\n",
    "\n",
    "for df in [train, test]:\n",
    "  df = df.drop(['id','keyword', 'location'], axis=1, inplace=True)"
   ]
  },
  {
   "cell_type": "code",
   "execution_count": 95,
   "id": "942795b7-fcf9-4f37-b398-f119ac51a04f",
   "metadata": {
    "tags": []
   },
   "outputs": [
    {
     "data": {
      "text/plain": [
       "((7613, 2), (3263, 1))"
      ]
     },
     "execution_count": 95,
     "metadata": {},
     "output_type": "execute_result"
    }
   ],
   "source": [
    "train.shape, test.shape"
   ]
  },
  {
   "cell_type": "markdown",
   "id": "ab8fd88d-01e0-4930-bf07-54634c409ad1",
   "metadata": {},
   "source": [
    "## 텍스트 테이터 전처리"
   ]
  },
  {
   "cell_type": "code",
   "execution_count": 96,
   "id": "cd45483a-86ea-404e-9c40-fef4b921e09e",
   "metadata": {
    "tags": []
   },
   "outputs": [
    {
     "data": {
      "text/plain": [
       "'새로운 캐글 대회가 열렸습니다. 주소: '"
      ]
     },
     "execution_count": 96,
     "metadata": {},
     "output_type": "execute_result"
    }
   ],
   "source": [
    "# url\n",
    "import re\n",
    "\n",
    "def remove_url(text):\n",
    "  url = re.compile(r'https?://\\S+|www\\.\\S+')\n",
    "  return url.sub(r'', text)\n",
    "\n",
    "sample_text = \"새로운 캐글 대회가 열렸습니다. 주소: https://www.kaggle.com/c/nlp-getting-started\"\n",
    "remove_url(sample_text)"
   ]
  },
  {
   "cell_type": "code",
   "execution_count": 97,
   "id": "a1f60c7f-1c00-4ed0-a016-34f17933323d",
   "metadata": {
    "tags": []
   },
   "outputs": [
    {
     "name": "stdout",
     "output_type": "stream",
     "text": [
      "\n",
      " Real News or Fake News \n",
      " Kaggle Machine Learning \n",
      "\n"
     ]
    }
   ],
   "source": [
    "# html 코드 제거\n",
    "def remove_html(text):\n",
    "  html = re.compile(r'<.*?>')\n",
    "  return html.sub(r'', text)\n",
    "\n",
    "sample_text =\"\"\"<div>\n",
    "<h1> Real News or Fake News </h1>\n",
    "<p> Kaggle Machine Learning </p>\n",
    "</div>\"\"\"\n",
    "\n",
    "print(remove_html(sample_text))"
   ]
  },
  {
   "cell_type": "code",
   "execution_count": 98,
   "id": "1bc09981-4eff-47e7-a241-e15c697c1038",
   "metadata": {
    "tags": []
   },
   "outputs": [
    {
     "name": "stdout",
     "output_type": "stream",
     "text": [
      "Requirement already satisfied: emoji in c:\\users\\user\\desktop\\kaggleedu\\venv\\lib\\site-packages (2.2.0)\n"
     ]
    }
   ],
   "source": [
    "!pip install emoji --upgrade"
   ]
  },
  {
   "cell_type": "code",
   "execution_count": 99,
   "id": "c9a73a2e-2e33-4761-8ea1-5ce3590b66d0",
   "metadata": {
    "tags": []
   },
   "outputs": [
    {
     "name": "stdout",
     "output_type": "stream",
     "text": [
      "Phd is very easy!!! 👍\n"
     ]
    }
   ],
   "source": [
    "import emoji\n",
    "print(emoji.emojize('Phd is very easy!!! :thumbs_up:'))"
   ]
  },
  {
   "cell_type": "code",
   "execution_count": 100,
   "id": "fac1c09c-1cd3-4956-a1f7-242b4282b9cf",
   "metadata": {
    "tags": []
   },
   "outputs": [
    {
     "data": {
      "text/plain": [
       "'Hello, '"
      ]
     },
     "execution_count": 100,
     "metadata": {},
     "output_type": "execute_result"
    }
   ],
   "source": [
    "def remove_emoji(text):\n",
    "  emoji_pattern = re.compile(\"[\"\n",
    "                           u\"\\U0001F600-\\U0001F64F\"  # emoticons\n",
    "                           u\"\\U0001F300-\\U0001F5FF\"  # symbols & pictographs\n",
    "                           u\"\\U0001F680-\\U0001F6FF\"  # transport & map symbols\n",
    "                           u\"\\U0001F1E0-\\U0001F1FF\"  # flags (iOS)\n",
    "                           u\"\\U00002702-\\U000027B0\"\n",
    "                           u\"\\U000024C2-\\U0001F251\"\n",
    "                           \"]+\", flags=re.UNICODE)\n",
    "  return emoji_pattern.sub(r'', text)\n",
    "\n",
    "remove_emoji(\"Hello, 👍\")"
   ]
  },
  {
   "cell_type": "code",
   "execution_count": 101,
   "id": "4bdbda11-a86c-4521-b002-1669cd185a36",
   "metadata": {
    "tags": []
   },
   "outputs": [
    {
     "data": {
      "text/plain": [
       "'Hello   Can I have one question     Is it  Outbreak '"
      ]
     },
     "execution_count": 101,
     "metadata": {},
     "output_type": "execute_result"
    }
   ],
   "source": [
    "# 특수문자\n",
    "def remove_punct(text):\n",
    "  return re.sub(\"[^a-zA-Z]\", \" \", text)\n",
    "\n",
    "sample_text = \"Hello!, Can I have one question?.., Is it #Outbreak?\"\n",
    "remove_punct(sample_text)"
   ]
  },
  {
   "cell_type": "code",
   "execution_count": 102,
   "id": "79089580-0c50-4bd7-8e07-87661d60fb9c",
   "metadata": {
    "tags": []
   },
   "outputs": [
    {
     "name": "stdout",
     "output_type": "stream",
     "text": [
      "Requirement already satisfied: nltk in c:\\users\\user\\desktop\\kaggleedu\\venv\\lib\\site-packages (3.8.1)\n",
      "Requirement already satisfied: click in c:\\users\\user\\desktop\\kaggleedu\\venv\\lib\\site-packages (from nltk) (8.1.3)\n",
      "Requirement already satisfied: joblib in c:\\users\\user\\desktop\\kaggleedu\\venv\\lib\\site-packages (from nltk) (1.2.0)\n",
      "Requirement already satisfied: regex>=2021.8.3 in c:\\users\\user\\desktop\\kaggleedu\\venv\\lib\\site-packages (from nltk) (2023.3.23)\n",
      "Requirement already satisfied: tqdm in c:\\users\\user\\desktop\\kaggleedu\\venv\\lib\\site-packages (from nltk) (4.65.0)\n",
      "Requirement already satisfied: colorama in c:\\users\\user\\desktop\\kaggleedu\\venv\\lib\\site-packages (from click->nltk) (0.4.6)\n"
     ]
    }
   ],
   "source": [
    "!pip install nltk"
   ]
  },
  {
   "cell_type": "code",
   "execution_count": 103,
   "id": "a090fb3b-1b7f-4504-aa67-dd6dbc303a12",
   "metadata": {
    "tags": []
   },
   "outputs": [
    {
     "name": "stdout",
     "output_type": "stream",
     "text": [
      "Total Length of stopwords: 179\n",
      "['i', 'me', 'my', 'myself', 'we', 'our', 'ours', 'ourselves', 'you', \"you're\"]\n"
     ]
    },
    {
     "name": "stderr",
     "output_type": "stream",
     "text": [
      "[nltk_data] Downloading package stopwords to\n",
      "[nltk_data]     C:\\Users\\User\\AppData\\Roaming\\nltk_data...\n",
      "[nltk_data]   Package stopwords is already up-to-date!\n"
     ]
    }
   ],
   "source": [
    "import nltk\n",
    "nltk.download('stopwords')\n",
    "from nltk.corpus import stopwords\n",
    "\n",
    "print(\"Total Length of stopwords:\", len(stopwords.words('english')))\n",
    "print(stopwords.words('english')[:10])\n",
    "# 불용어제거\n",
    "# I have a dream"
   ]
  },
  {
   "cell_type": "code",
   "execution_count": 104,
   "id": "1fd5dde1-f308-49c0-8990-50ed6db74469",
   "metadata": {
    "tags": []
   },
   "outputs": [
    {
     "name": "stderr",
     "output_type": "stream",
     "text": [
      "[nltk_data] Downloading package stopwords to\n",
      "[nltk_data]     C:\\Users\\User\\AppData\\Roaming\\nltk_data...\n",
      "[nltk_data]   Package stopwords is already up-to-date!\n"
     ]
    }
   ],
   "source": [
    "import string\n",
    "import re\n",
    "from nltk.corpus import stopwords\n",
    "import nltk\n",
    "nltk.download('stopwords')\n",
    "\n",
    "def data_cleansing(text, remove_stopwords = False):\n",
    "  # remove url \n",
    "  url = re.compile(r'https?://\\S+|www\\.\\S+')\n",
    "  cleaned_text = url.sub(r'', text)\n",
    "\n",
    "  # remove html\n",
    "  html = re.compile(r'<.*?>')\n",
    "  cleaned_text = html.sub(r'', cleaned_text)\n",
    "\n",
    "  # remove emoji\n",
    "  emoji_pattern = re.compile(\"[\"\n",
    "                           u\"\\U0001F600-\\U0001F64F\"  # emoticons\n",
    "                           u\"\\U0001F300-\\U0001F5FF\"  # symbols & pictographs\n",
    "                           u\"\\U0001F680-\\U0001F6FF\"  # transport & map symbols\n",
    "                           u\"\\U0001F1E0-\\U0001F1FF\"  # flags (iOS)\n",
    "                           u\"\\U00002702-\\U000027B0\"\n",
    "                           u\"\\U000024C2-\\U0001F251\"\n",
    "                           \"]+\", flags=re.UNICODE)\n",
    "  cleaned_text = emoji_pattern.sub(r'', cleaned_text)\n",
    "\n",
    "  # Special Letters to empty space\n",
    "  cleaned_text = re.sub(\"[^a-zA-Z]\", \" \", cleaned_text)\n",
    "\n",
    "  # Lowercase\n",
    "  cleaned_text = cleaned_text.lower().split()\n",
    "\n",
    "  if remove_stopwords:\n",
    "    stops = set(stopwords.words(\"english\"))\n",
    "    cleaned_text = [word for word in cleaned_text if not word in stops]\n",
    "    clean_review = ' '.join(cleaned_text)\n",
    "  else:\n",
    "    clean_review = ' '.join(cleaned_text)\n",
    "\n",
    "  return clean_review"
   ]
  },
  {
   "cell_type": "markdown",
   "id": "d1983630-2599-43e5-a484-985cfdab47f7",
   "metadata": {},
   "source": [
    "- 클라이언트가 만족할때까지 여기서 더 보완해야 한다."
   ]
  },
  {
   "cell_type": "code",
   "execution_count": 105,
   "id": "08b81ab4-7ae1-43bb-b2da-92815bdc622b",
   "metadata": {
    "tags": []
   },
   "outputs": [],
   "source": [
    "clean_train_reviews = []\n",
    "for datas in [train, test]:\n",
    "    datas['cleaned_text'] = datas['text'].apply(lambda x : data_cleansing(x, remove_stopwords=True))"
   ]
  },
  {
   "cell_type": "code",
   "execution_count": 106,
   "id": "77d8d4a7-c9e9-47aa-9bbf-43da5f1c498e",
   "metadata": {
    "tags": []
   },
   "outputs": [
    {
     "data": {
      "text/html": [
       "<div>\n",
       "<style scoped>\n",
       "    .dataframe tbody tr th:only-of-type {\n",
       "        vertical-align: middle;\n",
       "    }\n",
       "\n",
       "    .dataframe tbody tr th {\n",
       "        vertical-align: top;\n",
       "    }\n",
       "\n",
       "    .dataframe thead th {\n",
       "        text-align: right;\n",
       "    }\n",
       "</style>\n",
       "<table border=\"1\" class=\"dataframe\">\n",
       "  <thead>\n",
       "    <tr style=\"text-align: right;\">\n",
       "      <th></th>\n",
       "      <th>text</th>\n",
       "      <th>target</th>\n",
       "      <th>cleaned_text</th>\n",
       "    </tr>\n",
       "  </thead>\n",
       "  <tbody>\n",
       "    <tr>\n",
       "      <th>0</th>\n",
       "      <td>Our Deeds are the Reason of this #earthquake M...</td>\n",
       "      <td>1</td>\n",
       "      <td>deeds reason earthquake may allah forgive us</td>\n",
       "    </tr>\n",
       "    <tr>\n",
       "      <th>1</th>\n",
       "      <td>Forest fire near La Ronge Sask. Canada</td>\n",
       "      <td>1</td>\n",
       "      <td>forest fire near la ronge sask canada</td>\n",
       "    </tr>\n",
       "    <tr>\n",
       "      <th>2</th>\n",
       "      <td>All residents asked to 'shelter in place' are ...</td>\n",
       "      <td>1</td>\n",
       "      <td>residents asked shelter place notified officer...</td>\n",
       "    </tr>\n",
       "    <tr>\n",
       "      <th>3</th>\n",
       "      <td>13,000 people receive #wildfires evacuation or...</td>\n",
       "      <td>1</td>\n",
       "      <td>people receive wildfires evacuation orders cal...</td>\n",
       "    </tr>\n",
       "    <tr>\n",
       "      <th>4</th>\n",
       "      <td>Just got sent this photo from Ruby #Alaska as ...</td>\n",
       "      <td>1</td>\n",
       "      <td>got sent photo ruby alaska smoke wildfires pou...</td>\n",
       "    </tr>\n",
       "  </tbody>\n",
       "</table>\n",
       "</div>"
      ],
      "text/plain": [
       "                                                text  target  \\\n",
       "0  Our Deeds are the Reason of this #earthquake M...       1   \n",
       "1             Forest fire near La Ronge Sask. Canada       1   \n",
       "2  All residents asked to 'shelter in place' are ...       1   \n",
       "3  13,000 people receive #wildfires evacuation or...       1   \n",
       "4  Just got sent this photo from Ruby #Alaska as ...       1   \n",
       "\n",
       "                                        cleaned_text  \n",
       "0       deeds reason earthquake may allah forgive us  \n",
       "1              forest fire near la ronge sask canada  \n",
       "2  residents asked shelter place notified officer...  \n",
       "3  people receive wildfires evacuation orders cal...  \n",
       "4  got sent photo ruby alaska smoke wildfires pou...  "
      ]
     },
     "execution_count": 106,
     "metadata": {},
     "output_type": "execute_result"
    }
   ],
   "source": [
    "train.head(5)"
   ]
  },
  {
   "cell_type": "markdown",
   "id": "3137835f-f262-402a-8632-32dfb2b00c86",
   "metadata": {},
   "source": [
    "## 텍스트를 숫자로 변환\n",
    "- 벡터화(Vectorizer)"
   ]
  },
  {
   "cell_type": "code",
   "execution_count": 107,
   "id": "37853ff9-7aed-453a-bee6-5aa537cbd21f",
   "metadata": {
    "tags": []
   },
   "outputs": [
    {
     "name": "stdout",
     "output_type": "stream",
     "text": [
      "[[0 1 0 1 0 0 1 0 0 0 0 1 1]\n",
      " [0 0 1 1 1 0 0 0 1 0 0 1 1]\n",
      " [1 0 0 0 0 1 0 1 0 1 1 0 0]]\n",
      "{'can': 1, 'have': 3, 'lunch': 6, 'with': 11, 'you': 12, 'no': 8, 'cannot': 2, 'it': 4, 'because': 0, 'need': 7, 'to': 10, 'study': 9, 'later': 5}\n"
     ]
    }
   ],
   "source": [
    "from sklearn.feature_extraction.text import CountVectorizer\n",
    "# 말뭉치\n",
    "corpus = ['Can I have lunch with you?',     # 문서 1\n",
    "          'No, I cannot have it with you.', # 문서 2\n",
    "          'Because, I need to study later'] # 문서 3\n",
    "\n",
    "vector = CountVectorizer()\n",
    "print(vector.fit_transform(corpus).toarray())\n",
    "print(vector.vocabulary_)"
   ]
  },
  {
   "cell_type": "code",
   "execution_count": 108,
   "id": "a0421581-701c-453f-bb20-f01f92871b2b",
   "metadata": {
    "tags": []
   },
   "outputs": [
    {
     "name": "stdout",
     "output_type": "stream",
     "text": [
      "[[0.   0.52 0.   0.39 0.   0.   0.52 0.   0.   0.   0.   0.39 0.39]\n",
      " [0.   0.   0.46 0.35 0.46 0.   0.   0.   0.46 0.   0.   0.35 0.35]\n",
      " [0.45 0.   0.   0.   0.   0.45 0.   0.45 0.   0.45 0.45 0.   0.  ]]\n",
      "{'can': 1, 'have': 3, 'lunch': 6, 'with': 11, 'you': 12, 'no': 8, 'cannot': 2, 'it': 4, 'because': 0, 'need': 7, 'to': 10, 'study': 9, 'later': 5}\n"
     ]
    }
   ],
   "source": [
    "from sklearn.feature_extraction.text import TfidfVectorizer\n",
    "import numpy as np \n",
    "\n",
    "corpus = ['Can I have lunch with you?', \n",
    "          'No, I cannot have it with you.', \n",
    "          'Because, I need to study later']\n",
    "\n",
    "vector = TfidfVectorizer()\n",
    "print(np.round(vector.fit_transform(corpus).toarray(), 2))\n",
    "print(vector.vocabulary_)"
   ]
  },
  {
   "cell_type": "code",
   "execution_count": 113,
   "id": "5484eab0-4ae6-4c20-a01b-1e5c2c6998c1",
   "metadata": {
    "tags": []
   },
   "outputs": [],
   "source": [
    "# 데이터 변환\n",
    "# 데이터셋 분리\n",
    "\n",
    "from sklearn.feature_extraction.text import TfidfVectorizer\n",
    "\n",
    "vectorizer = TfidfVectorizer(min_df = 0.0,\n",
    "                             analyzer = 'char',\n",
    "                             sublinear_tf = True,\n",
    "                             ngram_range = (1,3), max_features = 10000)\n",
    "\n",
    "X = vectorizer.fit_transform(train['cleaned_text'])\n",
    "y = train['target'].values"
   ]
  },
  {
   "cell_type": "code",
   "execution_count": 114,
   "id": "d36f875c-8761-4ac6-b47b-0bc3a6e3d521",
   "metadata": {
    "tags": []
   },
   "outputs": [
    {
     "name": "stdout",
     "output_type": "stream",
     "text": [
      "(7613, 9444)\n",
      "(7613,)\n"
     ]
    }
   ],
   "source": [
    "print(X.shape)\n",
    "print(y.shape)"
   ]
  },
  {
   "cell_type": "markdown",
   "id": "c4bb3b34-b358-4ff3-b526-df1bcf4756fc",
   "metadata": {},
   "source": [
    "## 현업에서 느낀 것\n",
    "- 데이터 분석 --> 텍스트 마이닝/ 정형데이터와 관련된 것\n",
    "- 개발자 --> 딥러닝/ 자연어(챗봇, 번역기, 기타 등등)\n"
   ]
  },
  {
   "cell_type": "code",
   "execution_count": 115,
   "id": "6d53d313-dcdd-4164-b11e-e468d739879d",
   "metadata": {
    "tags": []
   },
   "outputs": [
    {
     "data": {
      "text/plain": [
       "((5329, 9444), (2284, 9444), (5329,), (2284,))"
      ]
     },
     "execution_count": 115,
     "metadata": {},
     "output_type": "execute_result"
    }
   ],
   "source": [
    "from sklearn.model_selection import train_test_split \n",
    "X_train, X_valid, y_train, y_valid = train_test_split(\n",
    "    X, y, test_size = 0.3, random_state=42\n",
    ")\n",
    "\n",
    "X_train.shape, X_valid.shape, y_train.shape, y_valid.shape"
   ]
  },
  {
   "cell_type": "markdown",
   "id": "cce935f2-2075-4a77-bf3b-b25a782e0e3c",
   "metadata": {
    "tags": []
   },
   "source": [
    "## 모델링"
   ]
  },
  {
   "cell_type": "code",
   "execution_count": 116,
   "id": "8311498b-acea-44f2-ad5c-7bc69a3a75ac",
   "metadata": {
    "tags": []
   },
   "outputs": [
    {
     "data": {
      "text/html": [
       "<style>#sk-container-id-1 {color: black;background-color: white;}#sk-container-id-1 pre{padding: 0;}#sk-container-id-1 div.sk-toggleable {background-color: white;}#sk-container-id-1 label.sk-toggleable__label {cursor: pointer;display: block;width: 100%;margin-bottom: 0;padding: 0.3em;box-sizing: border-box;text-align: center;}#sk-container-id-1 label.sk-toggleable__label-arrow:before {content: \"▸\";float: left;margin-right: 0.25em;color: #696969;}#sk-container-id-1 label.sk-toggleable__label-arrow:hover:before {color: black;}#sk-container-id-1 div.sk-estimator:hover label.sk-toggleable__label-arrow:before {color: black;}#sk-container-id-1 div.sk-toggleable__content {max-height: 0;max-width: 0;overflow: hidden;text-align: left;background-color: #f0f8ff;}#sk-container-id-1 div.sk-toggleable__content pre {margin: 0.2em;color: black;border-radius: 0.25em;background-color: #f0f8ff;}#sk-container-id-1 input.sk-toggleable__control:checked~div.sk-toggleable__content {max-height: 200px;max-width: 100%;overflow: auto;}#sk-container-id-1 input.sk-toggleable__control:checked~label.sk-toggleable__label-arrow:before {content: \"▾\";}#sk-container-id-1 div.sk-estimator input.sk-toggleable__control:checked~label.sk-toggleable__label {background-color: #d4ebff;}#sk-container-id-1 div.sk-label input.sk-toggleable__control:checked~label.sk-toggleable__label {background-color: #d4ebff;}#sk-container-id-1 input.sk-hidden--visually {border: 0;clip: rect(1px 1px 1px 1px);clip: rect(1px, 1px, 1px, 1px);height: 1px;margin: -1px;overflow: hidden;padding: 0;position: absolute;width: 1px;}#sk-container-id-1 div.sk-estimator {font-family: monospace;background-color: #f0f8ff;border: 1px dotted black;border-radius: 0.25em;box-sizing: border-box;margin-bottom: 0.5em;}#sk-container-id-1 div.sk-estimator:hover {background-color: #d4ebff;}#sk-container-id-1 div.sk-parallel-item::after {content: \"\";width: 100%;border-bottom: 1px solid gray;flex-grow: 1;}#sk-container-id-1 div.sk-label:hover label.sk-toggleable__label {background-color: #d4ebff;}#sk-container-id-1 div.sk-serial::before {content: \"\";position: absolute;border-left: 1px solid gray;box-sizing: border-box;top: 0;bottom: 0;left: 50%;z-index: 0;}#sk-container-id-1 div.sk-serial {display: flex;flex-direction: column;align-items: center;background-color: white;padding-right: 0.2em;padding-left: 0.2em;position: relative;}#sk-container-id-1 div.sk-item {position: relative;z-index: 1;}#sk-container-id-1 div.sk-parallel {display: flex;align-items: stretch;justify-content: center;background-color: white;position: relative;}#sk-container-id-1 div.sk-item::before, #sk-container-id-1 div.sk-parallel-item::before {content: \"\";position: absolute;border-left: 1px solid gray;box-sizing: border-box;top: 0;bottom: 0;left: 50%;z-index: -1;}#sk-container-id-1 div.sk-parallel-item {display: flex;flex-direction: column;z-index: 1;position: relative;background-color: white;}#sk-container-id-1 div.sk-parallel-item:first-child::after {align-self: flex-end;width: 50%;}#sk-container-id-1 div.sk-parallel-item:last-child::after {align-self: flex-start;width: 50%;}#sk-container-id-1 div.sk-parallel-item:only-child::after {width: 0;}#sk-container-id-1 div.sk-dashed-wrapped {border: 1px dashed gray;margin: 0 0.4em 0.5em 0.4em;box-sizing: border-box;padding-bottom: 0.4em;background-color: white;}#sk-container-id-1 div.sk-label label {font-family: monospace;font-weight: bold;display: inline-block;line-height: 1.2em;}#sk-container-id-1 div.sk-label-container {text-align: center;}#sk-container-id-1 div.sk-container {/* jupyter's `normalize.less` sets `[hidden] { display: none; }` but bootstrap.min.css set `[hidden] { display: none !important; }` so we also need the `!important` here to be able to override the default hidden behavior on the sphinx rendered scikit-learn.org. See: https://github.com/scikit-learn/scikit-learn/issues/21755 */display: inline-block !important;position: relative;}#sk-container-id-1 div.sk-text-repr-fallback {display: none;}</style><div id=\"sk-container-id-1\" class=\"sk-top-container\"><div class=\"sk-text-repr-fallback\"><pre>LogisticRegression()</pre><b>In a Jupyter environment, please rerun this cell to show the HTML representation or trust the notebook. <br />On GitHub, the HTML representation is unable to render, please try loading this page with nbviewer.org.</b></div><div class=\"sk-container\" hidden><div class=\"sk-item\"><div class=\"sk-estimator sk-toggleable\"><input class=\"sk-toggleable__control sk-hidden--visually\" id=\"sk-estimator-id-1\" type=\"checkbox\" checked><label for=\"sk-estimator-id-1\" class=\"sk-toggleable__label sk-toggleable__label-arrow\">LogisticRegression</label><div class=\"sk-toggleable__content\"><pre>LogisticRegression()</pre></div></div></div></div></div>"
      ],
      "text/plain": [
       "LogisticRegression()"
      ]
     },
     "execution_count": 116,
     "metadata": {},
     "output_type": "execute_result"
    }
   ],
   "source": [
    "from sklearn.linear_model import LogisticRegression \n",
    "lgs = LogisticRegression()\n",
    "lgs.fit(X_train, y_train)"
   ]
  },
  {
   "cell_type": "code",
   "execution_count": 117,
   "id": "b5615606-f154-47b7-b7a1-ffe5f7169198",
   "metadata": {
    "tags": []
   },
   "outputs": [
    {
     "name": "stdout",
     "output_type": "stream",
     "text": [
      "(3263, 9444)\n"
     ]
    }
   ],
   "source": [
    "testset = vectorizer.transform(test['cleaned_text'])\n",
    "print(testset.shape)"
   ]
  },
  {
   "cell_type": "code",
   "execution_count": 118,
   "id": "44015885-0020-469c-8df7-dfcd0f65e207",
   "metadata": {},
   "outputs": [
    {
     "name": "stdout",
     "output_type": "stream",
     "text": [
      "[1 1 1 1 1]\n",
      "3263\n"
     ]
    }
   ],
   "source": [
    "y_preds = lgs.predict(testset)\n",
    "print(y_preds[:5])\n",
    "print(len(y_preds))"
   ]
  },
  {
   "cell_type": "code",
   "execution_count": 122,
   "id": "8ebf86e2-d8e6-4116-9072-05f0d5ba7c58",
   "metadata": {
    "tags": []
   },
   "outputs": [],
   "source": [
    "submission = pd.DataFrame({'id': test_id, 'target': y_preds})\n",
    "submission.to_csv(\"submission_230329.csv\", index=False)"
   ]
  }
 ],
 "metadata": {
  "kernelspec": {
   "display_name": "Python 3 (ipykernel)",
   "language": "python",
   "name": "python3"
  },
  "language_info": {
   "codemirror_mode": {
    "name": "ipython",
    "version": 3
   },
   "file_extension": ".py",
   "mimetype": "text/x-python",
   "name": "python",
   "nbconvert_exporter": "python",
   "pygments_lexer": "ipython3",
   "version": "3.11.2"
  }
 },
 "nbformat": 4,
 "nbformat_minor": 5
}
