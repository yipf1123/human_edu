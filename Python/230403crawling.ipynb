{
  "nbformat": 4,
  "nbformat_minor": 0,
  "metadata": {
    "colab": {
      "provenance": [],
      "toc_visible": true,
      "authorship_tag": "ABX9TyPz0iCiM+tkF5zmMG5RSe4t",
      "include_colab_link": true
    },
    "kernelspec": {
      "name": "python3",
      "display_name": "Python 3"
    },
    "language_info": {
      "name": "python"
    }
  },
  "cells": [
    {
      "cell_type": "markdown",
      "metadata": {
        "id": "view-in-github",
        "colab_type": "text"
      },
      "source": [
        "<a href=\"https://colab.research.google.com/github/yipf1123/human_edu/blob/main/Python/230403crawling.ipynb\" target=\"_parent\"><img src=\"https://colab.research.google.com/assets/colab-badge.svg\" alt=\"Open In Colab\"/></a>"
      ]
    },
    {
      "cell_type": "markdown",
      "source": [
        "# 비 합법적"
      ],
      "metadata": {
        "id": "o3EggjNchCLr"
      }
    },
    {
      "cell_type": "markdown",
      "source": [
        "## 크롤링 코드"
      ],
      "metadata": {
        "id": "iYFAxvhYo0Mk"
      }
    },
    {
      "cell_type": "code",
      "source": [
        "import requests\n",
        "from bs4 import BeautifulSoup\n",
        "\n",
        "url = 'https://www.naver.com/'\n",
        "\n",
        "# url 변수에 담긴 html 문서를 불러와서 출력함\n",
        "req = requests.get(url)\n",
        "print(req.status_code)"
      ],
      "metadata": {
        "colab": {
          "base_uri": "https://localhost:8080/"
        },
        "id": "m0JrNG1co309",
        "outputId": "1d1d4b91-52b9-4067-fcf1-e5b95b4323c2"
      },
      "execution_count": 5,
      "outputs": [
        {
          "output_type": "stream",
          "name": "stdout",
          "text": [
            "200\n"
          ]
        }
      ]
    },
    {
      "cell_type": "markdown",
      "source": [
        "### status_code\n",
        "- HTTP 요청에 대한 응답 상태 코드를 나타내는 변수\n",
        "- HTTP 요청이 성공적으로 처리되면 응답 상태 코드는 200입니다. 또한, 400대의 상태 코드는 클라이언트 오류를 나타내며, 500대의 상태 코드는 서버 오류"
      ],
      "metadata": {
        "id": "CLcLYbslqpr9"
      }
    },
    {
      "cell_type": "markdown",
      "source": [
        "## 실습 .네이버 헤드 뉴스 찾기\n",
        "- 헤드라인 뉴스"
      ],
      "metadata": {
        "id": "IGqk4DWQrA78"
      }
    },
    {
      "cell_type": "code",
      "source": [
        "# crawling.py\n",
        "import requests\n",
        "from bs4 import BeautifulSoup\n",
        "import pandas as pd\n",
        "\n",
        "def crawling(soup):\n",
        "  print(type(soup))\n",
        "\n",
        "  div = soup.find(\"div\", class_= 'list_issue')\n",
        "\n",
        "  # for i in range(10):\n",
        "  #   result = div.find_all(\"a\")[i].get_text()\n",
        "  #   print(result, end=\", \")\n",
        "\n",
        "  result = []\n",
        "  for a in div.find_all(\"a\"):\n",
        "\n",
        "    result.append(a.get_text())\n",
        "\n",
        "  return result\n",
        "\n",
        "\n",
        "def main():\n",
        "  \n",
        "  custom_header = {\n",
        "      'referer' : 'https://www.naver.com',\n",
        "      'user-agent' : 'Mozilla/5.0 (Windows NT 10.0; Win64; x64) AppleWebKit/537.36 (KHTML, like Gecko) Chrome/111.0.0.0 Safari/537.36'\n",
        "  }\n",
        "  url = 'https://www.naver.com'\n",
        "\n",
        "  req = requests.get(url, headers = custom_header)\n",
        "  # 파싱\n",
        "  soup = BeautifulSoup(req.text, \"html.parser\") #BeautifulSoup 내장함수를 사용가능하게 함\n",
        "  result = crawling(soup)\n",
        "  print(result)\n",
        "\n",
        "if __name__ == \"__main__\":\n",
        "  main()"
      ],
      "metadata": {
        "colab": {
          "base_uri": "https://localhost:8080/"
        },
        "id": "NO3wgyborJxk",
        "outputId": "fada42a1-40e8-4066-ecec-72bfab31b570"
      },
      "execution_count": 47,
      "outputs": [
        {
          "output_type": "stream",
          "name": "stdout",
          "text": [
            "<class 'bs4.BeautifulSoup'>\n",
            "['홍성·대전 산불 이틀째…헬기 투입되며 진화 속도', \"[1보] '서해 피격' 서훈 前안보실장 보석 석방\", '尹대통령 \"정부, 4·3 희생자·유족 명예회복 위해 최선다할 것\"', '인왕산 밤샘 진화작업 …\"98% 껐지만 완진 쉽지 않아\"', '한일, 尹 방미 전 NSC 경제안보대화 추진…안보대화도 병행', '\"견뎌냈으니 딛고섰노라\" 75주년 제주4·3희생자 추념식 봉행', '한미일, 3∼4일 제주 남방서 대잠전훈련…北SLBM 대응능력 향상', '금리인상 따른 주택가격 하락으로 민간소비 증가속도 둔화 전망', '대전조차장역 SRT열차 탈선 원인은 온도상승으로 인한 선로변형', '중과실사고시 어업허가 취소한다…\"해상인명피해 10% 감소 목표\"']\n"
          ]
        }
      ]
    },
    {
      "cell_type": "markdown",
      "source": [
        "## 연합뉴스 크롤링"
      ],
      "metadata": {
        "id": "Pz22inR-4U60"
      }
    },
    {
      "cell_type": "code",
      "source": [
        "# crawling.py\n",
        "import requests\n",
        "from bs4 import BeautifulSoup\n",
        "import pandas as pd\n",
        "\n",
        "def crawling(soup):\n",
        "  print(type(soup))\n",
        "\n",
        "  div = soup.find(\"div\", class_= 'list_body newsflash_body')\n",
        "\n",
        "  # for i in range(10):\n",
        "  #   result = div.find_all(\"a\")[i].get_text()\n",
        "  #   print(result, end=\", \")\n",
        "\n",
        "  result = []\n",
        "  for a in div.find_all(\"a\"):\n",
        "\n",
        "    result.append(a.get_text())\n",
        "\n",
        "  result = result[1:] # 불필요한 정보 지우기위해 슬라이싱\n",
        "  return result\n",
        "\n",
        "\n",
        "def main():\n",
        "  \n",
        "  custom_header = {\n",
        "      'referer' : 'https://www.naver.com',\n",
        "      'user-agent' : 'Mozilla/5.0 (Windows NT 10.0; Win64; x64) AppleWebKit/537.36 (KHTML, like Gecko) Chrome/111.0.0.0 Safari/537.36'\n",
        "  }\n",
        "  url = 'https://news.naver.com/main/list.naver?mode=LPOD&mid=sec&sid1=001&sid2=140&oid=001&isYeonhapFlash=Y'\n",
        "\n",
        "  req = requests.get(url, headers = custom_header)\n",
        "  # 파싱\n",
        "  soup = BeautifulSoup(req.text, \"html.parser\") #BeautifulSoup 내장함수를 사용가능하게 함\n",
        "  result = crawling(soup)\n",
        "  print(result)\n",
        "\n",
        "if __name__ == \"__main__\":\n",
        "  main()"
      ],
      "metadata": {
        "colab": {
          "base_uri": "https://localhost:8080/"
        },
        "id": "c5h2PmWs4YDX",
        "outputId": "c4746179-8906-46aa-c858-35b936d3c9b1"
      },
      "execution_count": 53,
      "outputs": [
        {
          "output_type": "stream",
          "name": "stdout",
          "text": [
            "<class 'bs4.BeautifulSoup'>\n",
            "['홍성·대전 산불 이틀째…헬기 투입되며 진화 속도', '산림청장 \"홍성·대전 산불 오늘 중 완진 목표…강풍이 변수\"', '이틀째 꺼지지 않는 옥천 산불…밤새 20㏊ 소실', \"법원, '서해 피격 은폐' 서훈 前안보실장 보석 허가\", '尹대통령 \"정부, 4·3 희생자·유족 명예회복 위해 최선다할 것\"', '尹 \"모든 정부 기관, BIE실사단 방한일정 지원 만전 기하라\"', '인왕산 밤샘 진화작업 …\"98% 껐지만 완진 쉽지 않아\"', '한일, 尹 방미 전 NSC 경제안보대화 추진…안보대화도 병행', '한미일, 3∼4일 제주 남방서 대잠전훈련…北SLBM 대응능력 향상', '금리인상 따른 주택가격 하락으로 민간소비 증가속도 둔화 전망', '대전조차장역 SRT열차 탈선 원인은 온도상승으로 인한 선로변형', '신복위, 취약계층 채무조정 확대…\"원리금 상환 부담 완화\"']\n"
          ]
        }
      ]
    },
    {
      "cell_type": "code",
      "source": [
        "# crawling.py\n",
        "import requests\n",
        "from bs4 import BeautifulSoup\n",
        "import pandas as pd\n",
        "\n",
        "def crawling(soup):\n",
        "  print(type(soup))\n",
        "\n",
        "  div = soup.find(\"table\", class_= 'list trackList byChart')\n",
        "\n",
        "  # for i in range(10):\n",
        "  #   result = div.find_all(\"a\")[i].get_text()\n",
        "  #   print(result, end=\", \")\n",
        "\n",
        "  result = []\n",
        "  for a in div.find_all(\"a\"):\n",
        "\n",
        "    result.append(a.get_text())\n",
        "\n",
        "  result = result[1:] # 불필요한 정보 지우기위해 슬라이싱\n",
        "  return result\n",
        "\n",
        "\n",
        "def main():\n",
        "  \n",
        "  custom_header = {\n",
        "      'referer' : 'https://www.naver.com', # ID, PW 할때 중요함\n",
        "      'user-agent' : 'Mozilla/5.0 (Windows NT 10.0; Win64; x64) AppleWebKit/537.36 (KHTML, like Gecko) Chrome/111.0.0.0 Safari/537.36'\n",
        "  }\n",
        "  url = 'https://news.naver.com/main/list.naver?mode=LPOD&mid=sec&sid1=001&sid2=140&oid=001&isYeonhapFlash=Y'\n",
        "\n",
        "  req = requests.get(url, headers = custom_header)\n",
        "  # 파싱\n",
        "  soup = BeautifulSoup(req.text, \"html.parser\") #BeautifulSoup 내장함수를 사용가능하게 함\n",
        "  result = crawling(soup)\n",
        "  print(result)\n",
        "\n",
        "if __name__ == \"__main__\":\n",
        "  main()"
      ],
      "metadata": {
        "colab": {
          "base_uri": "https://localhost:8080/"
        },
        "id": "yIrbTlHf8lPf",
        "outputId": "11eb6ff2-a803-4870-9d98-9af2bcbdd55c"
      },
      "execution_count": 68,
      "outputs": [
        {
          "output_type": "stream",
          "name": "stdout",
          "text": [
            "<class 'bs4.BeautifulSoup'>\n",
            "['尹대통령 \"정부, 4·3 희생자·유족 명예회복 위해 최선다할 것\"', '與 \"4·3 희생자 영전에 애도…진상규명·명예회복 노력할 것\"', '\"견뎌냈으니 딛고섰노라\" 75주년 제주4·3희생자 추념식 봉행', '野, 4·3불참·對日외교 尹 싸잡아 비난…\"야구공 던질때 아냐\"', \"법원, '서해 피격 은폐' 서훈 前안보실장 보석 허가\", '한미일, 제주 남방서 대잠전훈련 돌입…北SLBM 대응능력 향상', '尹 \"모든 정부 기관, BIE실사단 방한일정 지원 만전 기하라\"', '\\'이성윤 수사팀\\' 압수수색한 공수처…대법도 \"문제없다\"', '홍성·대전 산불 이틀째…헬기 투입되며 진화 속도', '금리인상 따른 주택가격 하락으로 민간소비 증가속도 둔화 전망', '대전조차장역 SRT열차 탈선 원인은 온도상승으로 인한 선로변형', '시민단체 \"공직자 재산 형성과정 철저히 조사·공개해야\"', '신복위, 취약계층 채무조정 확대…\"원리금 상환 부담 완화\"']\n"
          ]
        }
      ]
    },
    {
      "cell_type": "markdown",
      "source": [
        "## 벅스뮤직차트 크롤링"
      ],
      "metadata": {
        "id": "pdP05vYW8t5a"
      }
    },
    {
      "cell_type": "code",
      "source": [
        "# get_text().replace.(\"\\n\", '')\n",
        "import requests\n",
        "from bs4 import BeautifulSoup\n",
        "import pandas as pd\n",
        "\n",
        "def crawling(soup):\n",
        "\n",
        "  # result = []\n",
        "  # for a_tag in soup.find_all(\"a\"):\n",
        "  #   title = a_tag.get(\"title\")\n",
        "  #   if title is not None:\n",
        "  #     result.append(title)  \n",
        "  # result = result[0::3]\n",
        "  # return result\n",
        " \n",
        "  result = []\n",
        "  tbody = soup.find(\"tbody\")\n",
        "  p_tags = tbody.find_all(\"p\", class_ = \"title\")\n",
        "  for p in p_tags:\n",
        "    result.append(p.get_text().replace(\"\\n\", ''))\n",
        "    \n",
        "  return result\n",
        "\n",
        "def main():\n",
        "  \n",
        "  custom_header = {\n",
        "      'referer' : 'https://music.bugs.co.kr/',\n",
        "      'user-agent' : 'Mozilla/5.0 (Windows NT 10.0; Win64; x64) AppleWebKit/537.36 (KHTML, like Gecko) Chrome/111.0.0.0 Safari/537.36'\n",
        "  }\n",
        "  url = 'https://music.bugs.co.kr/chart'\n",
        "\n",
        "  req = requests.get(url, headers = custom_header)\n",
        "  # 파싱\n",
        "  soup = BeautifulSoup(req.text, \"html.parser\") #BeautifulSoup 내장함수를 사용가능하게 함\n",
        "  result = crawling(soup)\n",
        "  print(result)\n",
        "\n",
        "if __name__ == \"__main__\":\n",
        "  main()"
      ],
      "metadata": {
        "colab": {
          "base_uri": "https://localhost:8080/"
        },
        "id": "YNLE6UbL8zJj",
        "outputId": "3484d0f8-a717-4448-c405-9138f6af883e"
      },
      "execution_count": 139,
      "outputs": [
        {
          "output_type": "stream",
          "name": "stdout",
          "text": [
            "['Kitsch', '꽃', 'Ditto', 'Hype Boy', 'Teddy Bear', '건물 사이에 피어난 장미 (Rose Blossom)', 'OMG', 'Love Me Like This', '밤이 무서워요 (Lonely Night)', 'I Don’t Think That I Like Her', 'Attention', 'CHRISTIAN', '파이팅 해야지 (Feat. 이영지)', '사건의 지평선', 'ANTIFRAGILE', 'After LIKE', 'LOVE DIVE', 'VIBE (feat. Jimin of BTS)', '심(心)', 'Poppy (Korean Ver.)', 'Dangerously', '한 페이지가 될 수 있게', '벚꽃 엔딩', 'Shut Down', '사랑인가 봐', '오르트구름', 'Cookie', 'Candy', \"That's Hilarious\", 'Nostalgia', 'Nxde', 'Feel My Rhythm', '너의 모든 순간', 'Pink Venom', 'FEARLESS', 'When I Get Old', 'ELEVEN', 'Off My Face', '모든 날, 모든 순간 (Every day, Every Moment)', '딱 10CM만', 'TOMBOY', 'Made You Look', '다정히 내 이름을 부르면', 'Unholy', 'STAY', 'Rush Hour (Feat. j-hope of BTS)', '봄 사랑 벚꽃 말고', 'Dreamers [Music from the FIFA World Cup Qatar 2022 Official Soundtrack] (feat. FIFA Sound)', '봄날', '정이라고 하자 (Feat. 10CM)', 'WHEN I MOVE', '해요 (2022)', '취중고백', 'Say I Love You', '그라데이션', '새삥 (Prod. ZICO) (Feat. 호미들)', 'LOVE me', 'Left and Right (Feat. Jung Kook of BTS)', 'Dynamite', 'NOT SORRY (Feat. pH-1) (Prod. by Slom)', '그때 그 순간 그대로 (그그그)', '나의 X에게', 'Love story', 'Monologue', '사랑은 늘 도망가', '결국엔 너에게 닿아서', '도깨비불 (Illusion)', '마지막 사랑', '주저하는 연인들을 위해', 'That’s Not How This Works (feat. Dan + Shay)', '보고싶었어', '드라마', '사랑하기 싫어', 'Young, Dumb, Stupid', '친구로 지내다 보면 (Feat. 김민석 of 멜로망스)', '자격지심 (Feat. ZICO)', '내가 아니라도', 'Rising', '봄여름가을겨울 (Still Life)', 'Expectations', '우린 그렇게 사랑해서', 'INVU', 'strawberry moon', '그댄 행복에 살텐데 (2022)', '팡파레', 'All Eyes On Me', 'Next Level', 'SET ME FREE', 'Hurt', '신호등', 'Anti-Hero', 'Impurities', 'Butter', 'on the street (with J. Cole)', '그대를 알고', '혼자서 걸어요 (Prod. by 나얼)', \"I Ain't Worried\", '사랑하지 않아서 그랬어', 'Like Crazy', '떠나보낼 준비해 둘걸 그랬어']\n"
          ]
        }
      ]
    },
    {
      "cell_type": "code",
      "source": [
        "import requests\n",
        "from bs4 import BeautifulSoup\n",
        "\n",
        "def crawling(soup):\n",
        "  pass\n",
        "\n",
        "def main():\n",
        "  custom_header = {\n",
        "      'referer' : 'https://music.bugs.co.kr/',\n",
        "      'user-agent' : 'Mozilla/5.0 (Windows NT 10.0; Win64; x64) AppleWebKit/537.36 (KHTML, like Gecko) Chrome/111.0.0.0 Safari/537.36'\n",
        "  }\n",
        "  url = 'https://music.bugs.co.kr/chart'\n",
        "  req = requests.get(url, headers = custom_header)\n",
        "  soup = BeautifulSoup(req.text, \"html.parser\")\n",
        "  result = crawling(soup)\n",
        "  \n",
        "if __name__ == \"__main__\":\n",
        "  main()"
      ],
      "metadata": {
        "id": "1nSwv_K3EQ5n"
      },
      "execution_count": null,
      "outputs": []
    },
    {
      "cell_type": "markdown",
      "source": [
        "# 합법적인 코드"
      ],
      "metadata": {
        "id": "wBmPrjw_jb8l"
      }
    },
    {
      "cell_type": "code",
      "source": [
        "import requests\n",
        "import lxml\n",
        "from bs4 import BeautifulSoup\n",
        "\n",
        "KEY = \"3164531739\" # 외부파일 지정, 암호화해서 불러옴\n",
        "url = f'http://data.ex.co.kr/openapi/trtm/realUnitTrtm?key={KEY}&type=xml&iStartUnitCode=101&iEndUnitCode=103'\n",
        "print(url)"
      ],
      "metadata": {
        "colab": {
          "base_uri": "https://localhost:8080/"
        },
        "id": "Q3eg_5cNjgVM",
        "outputId": "e9d68f52-8d11-42a3-8d5d-efe6888a25c4"
      },
      "execution_count": 159,
      "outputs": [
        {
          "output_type": "stream",
          "name": "stdout",
          "text": [
            "http://data.ex.co.kr/openapi/trtm/realUnitTrtm?key=3164531739&type=xml&iStartUnitCode=101&iEndUnitCode=103\n"
          ]
        }
      ]
    },
    {
      "cell_type": "markdown",
      "source": [
        "## XML"
      ],
      "metadata": {
        "id": "dlKEzYBJ5DzS"
      }
    },
    {
      "cell_type": "code",
      "source": [
        "%%time\n",
        "result = requests.get(url)\n",
        "content = result.content\n",
        "soup = BeautifulSoup(content, \"lxml\")\n",
        "# print(soup.prettify())\n",
        "\n",
        "# 3개의 출력변수 선택하시고, 테이터 프레임으로 만들기\n",
        "stddates = []\n",
        "stdtimes = []\n",
        "\n",
        "date_list = soup.find_all('stddate')\n",
        "time_list = soup.find_all('stdtime')\n",
        "\n",
        "\n",
        "for date in date_list:\n",
        "  stddates.append(date.get_text())\n",
        "\n",
        "for time in time_list:\n",
        "  stdtimes.append(time.get_text())\n",
        "\n",
        "\n",
        "# for date, time in zip(date_list, time_list):\n",
        "#     stddates.append(date.get_text())\n",
        "#     stdtimes.append(time.get_text())\n",
        "\n",
        "\n",
        "# stddates = [date.get_text() for date in date_list]\n",
        "# stdtimes = [time.get_text() for time in time_list]\n",
        "\n",
        "\n",
        "df = pd.DataFrame({\n",
        "    'data' : stddates,\n",
        "    'time' : stdtimes\n",
        "})\n",
        "\n",
        "df\n",
        "\n",
        "#CPU times: user 28.6 ms, sys: 1.78 ms, total: 30.3 ms\n",
        "#CPU times: user 22.2 ms, sys: 834 µs, total: 23 ms\n",
        "#CPU times: user 21.3 ms, sys: 3.1 ms, total: 24.4 ms\n"
      ],
      "metadata": {
        "colab": {
          "base_uri": "https://localhost:8080/",
          "height": 399
        },
        "id": "pQbiAKc5kXN-",
        "outputId": "9727c763-0860-4065-aedc-e2f596724e10"
      },
      "execution_count": 194,
      "outputs": [
        {
          "output_type": "stream",
          "name": "stdout",
          "text": [
            "CPU times: user 22 ms, sys: 2.19 ms, total: 24.2 ms\n",
            "Wall time: 1.51 s\n"
          ]
        },
        {
          "output_type": "execute_result",
          "data": {
            "text/plain": [
              "       data   time\n",
              "0  20230403   00  \n",
              "1  20230403  00:00\n",
              "2  20230403  00:05\n",
              "3  20230403  00:10\n",
              "4  20230403  00:15\n",
              "5  20230403  00:20\n",
              "6  20230403  00:25\n",
              "7  20230403  00:30\n",
              "8  20230403  00:35\n",
              "9  20230403  00:40"
            ],
            "text/html": [
              "\n",
              "  <div id=\"df-58db5f08-cb0c-482c-8f29-9d018eeb97ec\">\n",
              "    <div class=\"colab-df-container\">\n",
              "      <div>\n",
              "<style scoped>\n",
              "    .dataframe tbody tr th:only-of-type {\n",
              "        vertical-align: middle;\n",
              "    }\n",
              "\n",
              "    .dataframe tbody tr th {\n",
              "        vertical-align: top;\n",
              "    }\n",
              "\n",
              "    .dataframe thead th {\n",
              "        text-align: right;\n",
              "    }\n",
              "</style>\n",
              "<table border=\"1\" class=\"dataframe\">\n",
              "  <thead>\n",
              "    <tr style=\"text-align: right;\">\n",
              "      <th></th>\n",
              "      <th>data</th>\n",
              "      <th>time</th>\n",
              "    </tr>\n",
              "  </thead>\n",
              "  <tbody>\n",
              "    <tr>\n",
              "      <th>0</th>\n",
              "      <td>20230403</td>\n",
              "      <td>00</td>\n",
              "    </tr>\n",
              "    <tr>\n",
              "      <th>1</th>\n",
              "      <td>20230403</td>\n",
              "      <td>00:00</td>\n",
              "    </tr>\n",
              "    <tr>\n",
              "      <th>2</th>\n",
              "      <td>20230403</td>\n",
              "      <td>00:05</td>\n",
              "    </tr>\n",
              "    <tr>\n",
              "      <th>3</th>\n",
              "      <td>20230403</td>\n",
              "      <td>00:10</td>\n",
              "    </tr>\n",
              "    <tr>\n",
              "      <th>4</th>\n",
              "      <td>20230403</td>\n",
              "      <td>00:15</td>\n",
              "    </tr>\n",
              "    <tr>\n",
              "      <th>5</th>\n",
              "      <td>20230403</td>\n",
              "      <td>00:20</td>\n",
              "    </tr>\n",
              "    <tr>\n",
              "      <th>6</th>\n",
              "      <td>20230403</td>\n",
              "      <td>00:25</td>\n",
              "    </tr>\n",
              "    <tr>\n",
              "      <th>7</th>\n",
              "      <td>20230403</td>\n",
              "      <td>00:30</td>\n",
              "    </tr>\n",
              "    <tr>\n",
              "      <th>8</th>\n",
              "      <td>20230403</td>\n",
              "      <td>00:35</td>\n",
              "    </tr>\n",
              "    <tr>\n",
              "      <th>9</th>\n",
              "      <td>20230403</td>\n",
              "      <td>00:40</td>\n",
              "    </tr>\n",
              "  </tbody>\n",
              "</table>\n",
              "</div>\n",
              "      <button class=\"colab-df-convert\" onclick=\"convertToInteractive('df-58db5f08-cb0c-482c-8f29-9d018eeb97ec')\"\n",
              "              title=\"Convert this dataframe to an interactive table.\"\n",
              "              style=\"display:none;\">\n",
              "        \n",
              "  <svg xmlns=\"http://www.w3.org/2000/svg\" height=\"24px\"viewBox=\"0 0 24 24\"\n",
              "       width=\"24px\">\n",
              "    <path d=\"M0 0h24v24H0V0z\" fill=\"none\"/>\n",
              "    <path d=\"M18.56 5.44l.94 2.06.94-2.06 2.06-.94-2.06-.94-.94-2.06-.94 2.06-2.06.94zm-11 1L8.5 8.5l.94-2.06 2.06-.94-2.06-.94L8.5 2.5l-.94 2.06-2.06.94zm10 10l.94 2.06.94-2.06 2.06-.94-2.06-.94-.94-2.06-.94 2.06-2.06.94z\"/><path d=\"M17.41 7.96l-1.37-1.37c-.4-.4-.92-.59-1.43-.59-.52 0-1.04.2-1.43.59L10.3 9.45l-7.72 7.72c-.78.78-.78 2.05 0 2.83L4 21.41c.39.39.9.59 1.41.59.51 0 1.02-.2 1.41-.59l7.78-7.78 2.81-2.81c.8-.78.8-2.07 0-2.86zM5.41 20L4 18.59l7.72-7.72 1.47 1.35L5.41 20z\"/>\n",
              "  </svg>\n",
              "      </button>\n",
              "      \n",
              "  <style>\n",
              "    .colab-df-container {\n",
              "      display:flex;\n",
              "      flex-wrap:wrap;\n",
              "      gap: 12px;\n",
              "    }\n",
              "\n",
              "    .colab-df-convert {\n",
              "      background-color: #E8F0FE;\n",
              "      border: none;\n",
              "      border-radius: 50%;\n",
              "      cursor: pointer;\n",
              "      display: none;\n",
              "      fill: #1967D2;\n",
              "      height: 32px;\n",
              "      padding: 0 0 0 0;\n",
              "      width: 32px;\n",
              "    }\n",
              "\n",
              "    .colab-df-convert:hover {\n",
              "      background-color: #E2EBFA;\n",
              "      box-shadow: 0px 1px 2px rgba(60, 64, 67, 0.3), 0px 1px 3px 1px rgba(60, 64, 67, 0.15);\n",
              "      fill: #174EA6;\n",
              "    }\n",
              "\n",
              "    [theme=dark] .colab-df-convert {\n",
              "      background-color: #3B4455;\n",
              "      fill: #D2E3FC;\n",
              "    }\n",
              "\n",
              "    [theme=dark] .colab-df-convert:hover {\n",
              "      background-color: #434B5C;\n",
              "      box-shadow: 0px 1px 3px 1px rgba(0, 0, 0, 0.15);\n",
              "      filter: drop-shadow(0px 1px 2px rgba(0, 0, 0, 0.3));\n",
              "      fill: #FFFFFF;\n",
              "    }\n",
              "  </style>\n",
              "\n",
              "      <script>\n",
              "        const buttonEl =\n",
              "          document.querySelector('#df-58db5f08-cb0c-482c-8f29-9d018eeb97ec button.colab-df-convert');\n",
              "        buttonEl.style.display =\n",
              "          google.colab.kernel.accessAllowed ? 'block' : 'none';\n",
              "\n",
              "        async function convertToInteractive(key) {\n",
              "          const element = document.querySelector('#df-58db5f08-cb0c-482c-8f29-9d018eeb97ec');\n",
              "          const dataTable =\n",
              "            await google.colab.kernel.invokeFunction('convertToInteractive',\n",
              "                                                     [key], {});\n",
              "          if (!dataTable) return;\n",
              "\n",
              "          const docLinkHtml = 'Like what you see? Visit the ' +\n",
              "            '<a target=\"_blank\" href=https://colab.research.google.com/notebooks/data_table.ipynb>data table notebook</a>'\n",
              "            + ' to learn more about interactive tables.';\n",
              "          element.innerHTML = '';\n",
              "          dataTable['output_type'] = 'display_data';\n",
              "          await google.colab.output.renderOutput(dataTable, element);\n",
              "          const docLink = document.createElement('div');\n",
              "          docLink.innerHTML = docLinkHtml;\n",
              "          element.appendChild(docLink);\n",
              "        }\n",
              "      </script>\n",
              "    </div>\n",
              "  </div>\n",
              "  "
            ]
          },
          "metadata": {},
          "execution_count": 194
        }
      ]
    },
    {
      "cell_type": "markdown",
      "source": [
        "##JSON"
      ],
      "metadata": {
        "id": "LlOi-SkL4-jo"
      }
    },
    {
      "cell_type": "code",
      "source": [
        "import requests\n",
        "import pandas as pd\n",
        "url = \"http://data.ex.co.kr/openapi/trtm/realUnitTrtm?key=1308370912&type=json&iStartUnitCode=101&iEndUnitCode=103\""
      ],
      "metadata": {
        "id": "c7HdPDKL76Hj"
      },
      "execution_count": 216,
      "outputs": []
    },
    {
      "cell_type": "code",
      "source": [
        "responses = requests.get(url)\n",
        "print(responses)"
      ],
      "metadata": {
        "colab": {
          "base_uri": "https://localhost:8080/"
        },
        "id": "GWR22TpK78mt",
        "outputId": "6e0f4cae-3703-45fc-cbee-95c238c4d4d7"
      },
      "execution_count": 198,
      "outputs": [
        {
          "output_type": "stream",
          "name": "stdout",
          "text": [
            "<Response [200]>\n"
          ]
        }
      ]
    },
    {
      "cell_type": "code",
      "source": [
        "json_df = responses.json()\n",
        "data = json_df['realUnitTrtmVO']\n",
        "\n",
        "records = []\n",
        "for idx in data:\n",
        "  idx_dict = {}\n",
        "  idx_dict['date'] = idx['stdDate']\n",
        "  idx_dict['time'] = idx['stdTime']\n",
        "  idx_dict['startUnitNm'] = idx['startUnitNm']\n",
        "  idx_dict['endUnitNm'] = idx['endUnitNm']\n",
        "  #print(idx_dict)\n",
        "  records.append(idx_dict)\n",
        "df = pd.DataFrame(records)\n",
        "df.to_csv(\"result.csv\",index=False)"
      ],
      "metadata": {
        "id": "C9FzFotg8DZh"
      },
      "execution_count": 218,
      "outputs": []
    },
    {
      "cell_type": "code",
      "source": [],
      "metadata": {
        "id": "XmytSO8LCb8f"
      },
      "execution_count": null,
      "outputs": []
    },
    {
      "cell_type": "code",
      "source": [
        "# pandas 데이터 프레임으로 변환\n",
        "# 임의의 출력변수만 3개 선택\n",
        "\n",
        "stddates = []\n",
        "stdtimes = []\n",
        "timeavges = []\n",
        "\n",
        "\n",
        "date_list = soup.find_all('stddate')\n",
        "time_list = soup.find_all('stdtime')\n",
        "timeavg_list = soup.find_all('timeavg')\n",
        "\n",
        "stddates = [date.get_text() for date in date_list]\n",
        "stdtimes = [time.get_text() for time in time_list]\n",
        "timeavges = [\"%.2f\" % float(timeavg.get_text()) for timeavg in timeavg_list]\n",
        "\n",
        "df = pd.DataFrame({\n",
        "    'data' : stddates,\n",
        "    'time' : stdtimes,\n",
        "    'avg' : timeavges\n",
        "})\n",
        "\n",
        "df\n"
      ],
      "metadata": {
        "colab": {
          "base_uri": "https://localhost:8080/",
          "height": 363
        },
        "id": "Ui8cpxJF8hzp",
        "outputId": "69361bde-56ed-41cf-d534-26c0f2caaac2"
      },
      "execution_count": 214,
      "outputs": [
        {
          "output_type": "execute_result",
          "data": {
            "text/plain": [
              "       data   time   avg\n",
              "0  20230403   00    7.73\n",
              "1  20230403  00:00  7.73\n",
              "2  20230403  00:05  7.78\n",
              "3  20230403  00:10  7.73\n",
              "4  20230403  00:15  7.71\n",
              "5  20230403  00:20  7.72\n",
              "6  20230403  00:25  7.72\n",
              "7  20230403  00:30  7.72\n",
              "8  20230403  00:35  7.70\n",
              "9  20230403  00:40  7.77"
            ],
            "text/html": [
              "\n",
              "  <div id=\"df-a81feb75-8eea-4e78-ac98-2c5d97d1a637\">\n",
              "    <div class=\"colab-df-container\">\n",
              "      <div>\n",
              "<style scoped>\n",
              "    .dataframe tbody tr th:only-of-type {\n",
              "        vertical-align: middle;\n",
              "    }\n",
              "\n",
              "    .dataframe tbody tr th {\n",
              "        vertical-align: top;\n",
              "    }\n",
              "\n",
              "    .dataframe thead th {\n",
              "        text-align: right;\n",
              "    }\n",
              "</style>\n",
              "<table border=\"1\" class=\"dataframe\">\n",
              "  <thead>\n",
              "    <tr style=\"text-align: right;\">\n",
              "      <th></th>\n",
              "      <th>data</th>\n",
              "      <th>time</th>\n",
              "      <th>avg</th>\n",
              "    </tr>\n",
              "  </thead>\n",
              "  <tbody>\n",
              "    <tr>\n",
              "      <th>0</th>\n",
              "      <td>20230403</td>\n",
              "      <td>00</td>\n",
              "      <td>7.73</td>\n",
              "    </tr>\n",
              "    <tr>\n",
              "      <th>1</th>\n",
              "      <td>20230403</td>\n",
              "      <td>00:00</td>\n",
              "      <td>7.73</td>\n",
              "    </tr>\n",
              "    <tr>\n",
              "      <th>2</th>\n",
              "      <td>20230403</td>\n",
              "      <td>00:05</td>\n",
              "      <td>7.78</td>\n",
              "    </tr>\n",
              "    <tr>\n",
              "      <th>3</th>\n",
              "      <td>20230403</td>\n",
              "      <td>00:10</td>\n",
              "      <td>7.73</td>\n",
              "    </tr>\n",
              "    <tr>\n",
              "      <th>4</th>\n",
              "      <td>20230403</td>\n",
              "      <td>00:15</td>\n",
              "      <td>7.71</td>\n",
              "    </tr>\n",
              "    <tr>\n",
              "      <th>5</th>\n",
              "      <td>20230403</td>\n",
              "      <td>00:20</td>\n",
              "      <td>7.72</td>\n",
              "    </tr>\n",
              "    <tr>\n",
              "      <th>6</th>\n",
              "      <td>20230403</td>\n",
              "      <td>00:25</td>\n",
              "      <td>7.72</td>\n",
              "    </tr>\n",
              "    <tr>\n",
              "      <th>7</th>\n",
              "      <td>20230403</td>\n",
              "      <td>00:30</td>\n",
              "      <td>7.72</td>\n",
              "    </tr>\n",
              "    <tr>\n",
              "      <th>8</th>\n",
              "      <td>20230403</td>\n",
              "      <td>00:35</td>\n",
              "      <td>7.70</td>\n",
              "    </tr>\n",
              "    <tr>\n",
              "      <th>9</th>\n",
              "      <td>20230403</td>\n",
              "      <td>00:40</td>\n",
              "      <td>7.77</td>\n",
              "    </tr>\n",
              "  </tbody>\n",
              "</table>\n",
              "</div>\n",
              "      <button class=\"colab-df-convert\" onclick=\"convertToInteractive('df-a81feb75-8eea-4e78-ac98-2c5d97d1a637')\"\n",
              "              title=\"Convert this dataframe to an interactive table.\"\n",
              "              style=\"display:none;\">\n",
              "        \n",
              "  <svg xmlns=\"http://www.w3.org/2000/svg\" height=\"24px\"viewBox=\"0 0 24 24\"\n",
              "       width=\"24px\">\n",
              "    <path d=\"M0 0h24v24H0V0z\" fill=\"none\"/>\n",
              "    <path d=\"M18.56 5.44l.94 2.06.94-2.06 2.06-.94-2.06-.94-.94-2.06-.94 2.06-2.06.94zm-11 1L8.5 8.5l.94-2.06 2.06-.94-2.06-.94L8.5 2.5l-.94 2.06-2.06.94zm10 10l.94 2.06.94-2.06 2.06-.94-2.06-.94-.94-2.06-.94 2.06-2.06.94z\"/><path d=\"M17.41 7.96l-1.37-1.37c-.4-.4-.92-.59-1.43-.59-.52 0-1.04.2-1.43.59L10.3 9.45l-7.72 7.72c-.78.78-.78 2.05 0 2.83L4 21.41c.39.39.9.59 1.41.59.51 0 1.02-.2 1.41-.59l7.78-7.78 2.81-2.81c.8-.78.8-2.07 0-2.86zM5.41 20L4 18.59l7.72-7.72 1.47 1.35L5.41 20z\"/>\n",
              "  </svg>\n",
              "      </button>\n",
              "      \n",
              "  <style>\n",
              "    .colab-df-container {\n",
              "      display:flex;\n",
              "      flex-wrap:wrap;\n",
              "      gap: 12px;\n",
              "    }\n",
              "\n",
              "    .colab-df-convert {\n",
              "      background-color: #E8F0FE;\n",
              "      border: none;\n",
              "      border-radius: 50%;\n",
              "      cursor: pointer;\n",
              "      display: none;\n",
              "      fill: #1967D2;\n",
              "      height: 32px;\n",
              "      padding: 0 0 0 0;\n",
              "      width: 32px;\n",
              "    }\n",
              "\n",
              "    .colab-df-convert:hover {\n",
              "      background-color: #E2EBFA;\n",
              "      box-shadow: 0px 1px 2px rgba(60, 64, 67, 0.3), 0px 1px 3px 1px rgba(60, 64, 67, 0.15);\n",
              "      fill: #174EA6;\n",
              "    }\n",
              "\n",
              "    [theme=dark] .colab-df-convert {\n",
              "      background-color: #3B4455;\n",
              "      fill: #D2E3FC;\n",
              "    }\n",
              "\n",
              "    [theme=dark] .colab-df-convert:hover {\n",
              "      background-color: #434B5C;\n",
              "      box-shadow: 0px 1px 3px 1px rgba(0, 0, 0, 0.15);\n",
              "      filter: drop-shadow(0px 1px 2px rgba(0, 0, 0, 0.3));\n",
              "      fill: #FFFFFF;\n",
              "    }\n",
              "  </style>\n",
              "\n",
              "      <script>\n",
              "        const buttonEl =\n",
              "          document.querySelector('#df-a81feb75-8eea-4e78-ac98-2c5d97d1a637 button.colab-df-convert');\n",
              "        buttonEl.style.display =\n",
              "          google.colab.kernel.accessAllowed ? 'block' : 'none';\n",
              "\n",
              "        async function convertToInteractive(key) {\n",
              "          const element = document.querySelector('#df-a81feb75-8eea-4e78-ac98-2c5d97d1a637');\n",
              "          const dataTable =\n",
              "            await google.colab.kernel.invokeFunction('convertToInteractive',\n",
              "                                                     [key], {});\n",
              "          if (!dataTable) return;\n",
              "\n",
              "          const docLinkHtml = 'Like what you see? Visit the ' +\n",
              "            '<a target=\"_blank\" href=https://colab.research.google.com/notebooks/data_table.ipynb>data table notebook</a>'\n",
              "            + ' to learn more about interactive tables.';\n",
              "          element.innerHTML = '';\n",
              "          dataTable['output_type'] = 'display_data';\n",
              "          await google.colab.output.renderOutput(dataTable, element);\n",
              "          const docLink = document.createElement('div');\n",
              "          docLink.innerHTML = docLinkHtml;\n",
              "          element.appendChild(docLink);\n",
              "        }\n",
              "      </script>\n",
              "    </div>\n",
              "  </div>\n",
              "  "
            ]
          },
          "metadata": {},
          "execution_count": 214
        }
      ]
    }
  ]
}