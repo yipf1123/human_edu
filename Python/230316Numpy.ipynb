{
  "nbformat": 4,
  "nbformat_minor": 0,
  "metadata": {
    "colab": {
      "provenance": []
    },
    "kernelspec": {
      "name": "python3",
      "display_name": "Python 3"
    },
    "language_info": {
      "name": "python"
    }
  },
  "cells": [
    {
      "cell_type": "markdown",
      "source": [
        "## NumPy 라이브러리 불러오기\n",
        "\n",
        "\n",
        "\n"
      ],
      "metadata": {
        "id": "3UV6iRi-4bx5"
      }
    },
    {
      "cell_type": "code",
      "source": [
        "import numpy as np\n",
        "print(np.__version__)"
      ],
      "metadata": {
        "colab": {
          "base_uri": "https://localhost:8080/"
        },
        "id": "UlnB4flk4euv",
        "outputId": "9c9586a7-06d7-4bbc-f221-2c7a6bf0d4f8"
      },
      "execution_count": null,
      "outputs": [
        {
          "output_type": "stream",
          "name": "stdout",
          "text": [
            "1.22.4\n"
          ]
        }
      ]
    },
    {
      "cell_type": "code",
      "source": [
        "import numpy\n",
        "print(numpy.__version__)"
      ],
      "metadata": {
        "colab": {
          "base_uri": "https://localhost:8080/"
        },
        "id": "gfd3tSRp4wGS",
        "outputId": "725ce200-5228-4f0b-deca-0c8235dba609"
      },
      "execution_count": null,
      "outputs": [
        {
          "output_type": "stream",
          "name": "stdout",
          "text": [
            "1.22.4\n"
          ]
        }
      ]
    },
    {
      "cell_type": "markdown",
      "source": [
        "## 리스트를 배열로 변환\n",
        "https://numpy.org/doc/stable/reference/generated/numpy.ndarray.html"
      ],
      "metadata": {
        "id": "e94ukPQT48m4"
      }
    },
    {
      "cell_type": "code",
      "source": [
        "temp = [1, 2, 3, 4, 5, 6, 7, 8, 9, 10] # 리스트는 사칙연산 불가\n",
        "temp_array = np.array(temp)\n",
        "print(temp)\n",
        "print(temp_array) # 배열은 쉼표가 없다"
      ],
      "metadata": {
        "colab": {
          "base_uri": "https://localhost:8080/"
        },
        "id": "OC2yJHY25BnJ",
        "outputId": "5ea319ad-b048-45d6-b7db-41f752f174f2"
      },
      "execution_count": null,
      "outputs": [
        {
          "output_type": "stream",
          "name": "stdout",
          "text": [
            "[1, 2, 3, 4, 5, 6, 7, 8, 9, 10]\n",
            "[ 1  2  3  4  5  6  7  8  9 10]\n"
          ]
        }
      ]
    },
    {
      "cell_type": "code",
      "source": [
        "print(type(temp))\n",
        "print(type(temp_array))\n",
        "print(temp_array.shape)\n",
        "print(temp_array.ndim)"
      ],
      "metadata": {
        "colab": {
          "base_uri": "https://localhost:8080/"
        },
        "id": "Uh1EK6nO5bsR",
        "outputId": "edabbff5-2042-4165-8402-8dec61e54396"
      },
      "execution_count": null,
      "outputs": [
        {
          "output_type": "stream",
          "name": "stdout",
          "text": [
            "<class 'list'>\n",
            "<class 'numpy.ndarray'>\n",
            "(10,)\n",
            "1\n"
          ]
        }
      ]
    },
    {
      "cell_type": "markdown",
      "source": [
        "- 첫번째 인수를 출력"
      ],
      "metadata": {
        "id": "qFOc2wlf6OpB"
      }
    },
    {
      "cell_type": "code",
      "source": [
        "temp_array[1]"
      ],
      "metadata": {
        "colab": {
          "base_uri": "https://localhost:8080/"
        },
        "id": "CeUmV3Or6RIm",
        "outputId": "acc6497f-b0fb-4e70-8db6-4ebb57a58edd"
      },
      "execution_count": null,
      "outputs": [
        {
          "output_type": "execute_result",
          "data": {
            "text/plain": [
              "2"
            ]
          },
          "metadata": {},
          "execution_count": 8
        }
      ]
    },
    {
      "cell_type": "code",
      "source": [
        "temp_array[-1]"
      ],
      "metadata": {
        "colab": {
          "base_uri": "https://localhost:8080/"
        },
        "id": "u8lprrFz6XsP",
        "outputId": "c3e9cd92-6fcc-4dd0-bf45-8cf938beca81"
      },
      "execution_count": null,
      "outputs": [
        {
          "output_type": "execute_result",
          "data": {
            "text/plain": [
              "10"
            ]
          },
          "metadata": {},
          "execution_count": 9
        }
      ]
    },
    {
      "cell_type": "markdown",
      "source": [
        "- 사칙연산(리스트를 배열로 바꿔서)"
      ],
      "metadata": {
        "id": "wWKsCK1X6tmT"
      }
    },
    {
      "cell_type": "code",
      "source": [
        "score1 = [10, 15, 40, 50, 80]\n",
        "score2 = [30, 40, 70, 50, 100]\n",
        "\n",
        "score1 + score2  # 서로 더한 값이 안나오고 연결된 상태로 출력됨"
      ],
      "metadata": {
        "colab": {
          "base_uri": "https://localhost:8080/"
        },
        "id": "-v2IHDku6kEH",
        "outputId": "af4d6dab-baf3-45cf-b8f2-2a9ea327ae85"
      },
      "execution_count": null,
      "outputs": [
        {
          "output_type": "execute_result",
          "data": {
            "text/plain": [
              "[10, 15, 40, 50, 80, 30, 40, 70, 50, 100]"
            ]
          },
          "metadata": {},
          "execution_count": 20
        }
      ]
    },
    {
      "cell_type": "code",
      "source": [
        "score1_arr = np.array(score1)\n",
        "score2_arr = np.array(score2)\n",
        "\n",
        "result = score1_arr + score2_arr\n",
        "print(result)"
      ],
      "metadata": {
        "colab": {
          "base_uri": "https://localhost:8080/"
        },
        "id": "W0NqoQag67tg",
        "outputId": "9f728b0a-0af4-47cf-dab0-48818fc1ea22"
      },
      "execution_count": null,
      "outputs": [
        {
          "output_type": "stream",
          "name": "stdout",
          "text": [
            "[ 40  55 110 100 180]\n"
          ]
        }
      ]
    },
    {
      "cell_type": "code",
      "source": [
        "np.min(result)"
      ],
      "metadata": {
        "colab": {
          "base_uri": "https://localhost:8080/"
        },
        "id": "X406pwXJ_WwL",
        "outputId": "9ceaa701-73a9-4961-c44a-e6536770778c"
      },
      "execution_count": null,
      "outputs": [
        {
          "output_type": "execute_result",
          "data": {
            "text/plain": [
              "40"
            ]
          },
          "metadata": {},
          "execution_count": 22
        }
      ]
    },
    {
      "cell_type": "code",
      "source": [
        "np.max(result)"
      ],
      "metadata": {
        "colab": {
          "base_uri": "https://localhost:8080/"
        },
        "id": "h4Ds4kxC_lWA",
        "outputId": "565968bb-f720-4b11-ecf4-52cae47522c1"
      },
      "execution_count": null,
      "outputs": [
        {
          "output_type": "execute_result",
          "data": {
            "text/plain": [
              "180"
            ]
          },
          "metadata": {},
          "execution_count": 24
        }
      ]
    },
    {
      "cell_type": "code",
      "source": [
        "np.sum(result)"
      ],
      "metadata": {
        "colab": {
          "base_uri": "https://localhost:8080/"
        },
        "id": "f9fDmQMw_wbY",
        "outputId": "48fe9006-277f-4e3a-8a04-671e034a02e2"
      },
      "execution_count": null,
      "outputs": [
        {
          "output_type": "execute_result",
          "data": {
            "text/plain": [
              "485"
            ]
          },
          "metadata": {},
          "execution_count": 25
        }
      ]
    },
    {
      "cell_type": "markdown",
      "source": [
        "## 배열(행렬)의 생성\n",
        "- 0차원부터 3차원까지로 구성"
      ],
      "metadata": {
        "id": "0YbSmX_y__gM"
      }
    },
    {
      "cell_type": "code",
      "source": [
        "temp_arr = np.array(30)\n",
        "print(temp_arr)\n",
        "print(type(temp_arr))\n",
        "print(temp_arr.shape)"
      ],
      "metadata": {
        "colab": {
          "base_uri": "https://localhost:8080/"
        },
        "id": "x-5t44_FALGN",
        "outputId": "27b68517-74ff-4e72-e697-b7931cb7b1ae"
      },
      "execution_count": null,
      "outputs": [
        {
          "output_type": "stream",
          "name": "stdout",
          "text": [
            "30\n",
            "<class 'numpy.ndarray'>\n",
            "()\n"
          ]
        }
      ]
    },
    {
      "cell_type": "code",
      "source": [
        "temp_arr = np.array([1, 2, 3])\n",
        "print(temp_arr.shape)\n",
        "print(temp_arr.ndim)"
      ],
      "metadata": {
        "colab": {
          "base_uri": "https://localhost:8080/"
        },
        "id": "3Q765QxfAjOJ",
        "outputId": "6e782070-368a-4cd7-8f68-c08ed7ae1745"
      },
      "execution_count": null,
      "outputs": [
        {
          "output_type": "stream",
          "name": "stdout",
          "text": [
            "(3,)\n",
            "1\n"
          ]
        }
      ]
    },
    {
      "cell_type": "markdown",
      "source": [
        "## 2차원\n",
        "- 정형 데이터(엑셀 데이터)"
      ],
      "metadata": {
        "id": "AxNuoqlPB9TS"
      }
    },
    {
      "cell_type": "code",
      "source": [
        "temp_arr = np.array([[1, 2, 3],[4, 5, 6]])\n",
        "print(temp_arr.shape)\n",
        "print(temp_arr.ndim)"
      ],
      "metadata": {
        "colab": {
          "base_uri": "https://localhost:8080/"
        },
        "id": "ocXyU9mSBYt6",
        "outputId": "7a2b3d11-9536-4fb1-8fec-4376dfc566a4"
      },
      "execution_count": null,
      "outputs": [
        {
          "output_type": "stream",
          "name": "stdout",
          "text": [
            "(2, 3)\n",
            "2\n"
          ]
        }
      ]
    },
    {
      "cell_type": "markdown",
      "source": [
        "## 3차원\n",
        "- 이미지 데이터"
      ],
      "metadata": {
        "id": "rBszTxVoCGLR"
      }
    },
    {
      "cell_type": "code",
      "source": [
        "temp_arr = np.array([[[1, 2, 3], [4, 5, 6]], [[1, 2, 3], [4, 5, 6]]])\n",
        "print(temp_arr.shape)\n",
        "print(temp_arr.ndim)"
      ],
      "metadata": {
        "colab": {
          "base_uri": "https://localhost:8080/"
        },
        "id": "AoP_yma2CLpj",
        "outputId": "2ec11d9f-475e-4444-831c-5f0b5951f0df"
      },
      "execution_count": null,
      "outputs": [
        {
          "output_type": "stream",
          "name": "stdout",
          "text": [
            "(2, 2, 3)\n",
            "3\n"
          ]
        }
      ]
    },
    {
      "cell_type": "code",
      "source": [
        "temp_arr = np.array([1, 2, 3, 4], ndmin=3)\n",
        "print(temp_arr.shape)\n",
        "print(temp_arr.ndim)"
      ],
      "metadata": {
        "colab": {
          "base_uri": "https://localhost:8080/"
        },
        "id": "TnbmxKS_C91B",
        "outputId": "9ffed4f0-0d7e-4d91-e604-a044d0d8deb0"
      },
      "execution_count": null,
      "outputs": [
        {
          "output_type": "stream",
          "name": "stdout",
          "text": [
            "(1, 1, 4)\n",
            "3\n"
          ]
        }
      ]
    },
    {
      "cell_type": "markdown",
      "source": [
        "## 배열 생성의 다양한 방법들\n",
        "- 모두 0으로 채운"
      ],
      "metadata": {
        "id": "3CooX4x-DeS8"
      }
    },
    {
      "cell_type": "code",
      "source": [
        "temp_arr = np.zeros((5, 10))\n",
        "temp_arr .dtype"
      ],
      "metadata": {
        "colab": {
          "base_uri": "https://localhost:8080/"
        },
        "id": "7rq0NomXDh9R",
        "outputId": "4c24e1e0-47dd-4e7f-fe8b-b42ec2804d41"
      },
      "execution_count": null,
      "outputs": [
        {
          "output_type": "execute_result",
          "data": {
            "text/plain": [
              "dtype('float64')"
            ]
          },
          "metadata": {},
          "execution_count": 43
        }
      ]
    },
    {
      "cell_type": "markdown",
      "source": [
        "- 모두 1로 채운다"
      ],
      "metadata": {
        "id": "dw12mITLEEYq"
      }
    },
    {
      "cell_type": "code",
      "source": [
        "temp_arr = np.ones((5, 10))\n",
        "temp_arr"
      ],
      "metadata": {
        "colab": {
          "base_uri": "https://localhost:8080/"
        },
        "id": "MCeWUXf7D_YZ",
        "outputId": "a2e37f09-1800-432f-cf30-06421a0499c7"
      },
      "execution_count": null,
      "outputs": [
        {
          "output_type": "execute_result",
          "data": {
            "text/plain": [
              "array([[1., 1., 1., 1., 1., 1., 1., 1., 1., 1.],\n",
              "       [1., 1., 1., 1., 1., 1., 1., 1., 1., 1.],\n",
              "       [1., 1., 1., 1., 1., 1., 1., 1., 1., 1.],\n",
              "       [1., 1., 1., 1., 1., 1., 1., 1., 1., 1.],\n",
              "       [1., 1., 1., 1., 1., 1., 1., 1., 1., 1.]])"
            ]
          },
          "metadata": {},
          "execution_count": 42
        }
      ]
    },
    {
      "cell_type": "markdown",
      "source": [
        "- 임의의 상수값으로 채운다"
      ],
      "metadata": {
        "id": "uF-KrCikFA8d"
      }
    },
    {
      "cell_type": "code",
      "source": [
        "temp_arr = np.full((2,3), 10)\n",
        "temp_arr"
      ],
      "metadata": {
        "colab": {
          "base_uri": "https://localhost:8080/"
        },
        "id": "kPpWqTeeFEHh",
        "outputId": "6db5bb9f-76a7-4e9d-e35a-f6c27648236a"
      },
      "execution_count": null,
      "outputs": [
        {
          "output_type": "execute_result",
          "data": {
            "text/plain": [
              "array([[10, 10, 10],\n",
              "       [10, 10, 10]])"
            ]
          },
          "metadata": {},
          "execution_count": 45
        }
      ]
    },
    {
      "cell_type": "markdown",
      "source": [
        "- 최소 및 최대 숫자의 범위를 정해두고, 구간별로 값을 생성하는 코드를 작성함\n"
      ],
      "metadata": {
        "id": "EhquFVaIFR8k"
      }
    },
    {
      "cell_type": "code",
      "source": [
        "temp_arr = np.linspace(5, 10, 5)\n",
        "temp_arr"
      ],
      "metadata": {
        "colab": {
          "base_uri": "https://localhost:8080/"
        },
        "id": "Fiad540eFXnC",
        "outputId": "72733f5f-2630-4df6-af37-baf099863691"
      },
      "execution_count": null,
      "outputs": [
        {
          "output_type": "execute_result",
          "data": {
            "text/plain": [
              "array([ 5.  ,  6.25,  7.5 ,  8.75, 10.  ])"
            ]
          },
          "metadata": {},
          "execution_count": 46
        }
      ]
    },
    {
      "cell_type": "markdown",
      "source": [
        "- np.arange()"
      ],
      "metadata": {
        "id": "sXPOWCJlHfIq"
      }
    },
    {
      "cell_type": "code",
      "source": [
        "temp_arr = np.arange(1, 100, 4)\n",
        "temp_arr"
      ],
      "metadata": {
        "colab": {
          "base_uri": "https://localhost:8080/"
        },
        "id": "lYil5iAWHlX0",
        "outputId": "be6ea596-2892-4b3a-dbaa-42a024353e65"
      },
      "execution_count": null,
      "outputs": [
        {
          "output_type": "execute_result",
          "data": {
            "text/plain": [
              "array([ 1,  5,  9, 13, 17, 21, 25, 29, 33, 37, 41, 45, 49, 53, 57, 61, 65,\n",
              "       69, 73, 77, 81, 85, 89, 93, 97])"
            ]
          },
          "metadata": {},
          "execution_count": 47
        }
      ]
    },
    {
      "cell_type": "code",
      "source": [],
      "metadata": {
        "id": "W7xaxX23H5m6"
      },
      "execution_count": null,
      "outputs": []
    },
    {
      "cell_type": "markdown",
      "source": [
        "- 임의의 난수 생성"
      ],
      "metadata": {
        "id": "_dHsXe5CITX8"
      }
    },
    {
      "cell_type": "code",
      "source": [
        "from numpy import random\n",
        "x  = random.rand()\n",
        "print(x)"
      ],
      "metadata": {
        "colab": {
          "base_uri": "https://localhost:8080/"
        },
        "id": "2vy-CYSPIW5Q",
        "outputId": "c6d69c78-732f-48ee-9638-9c8121fbdb94"
      },
      "execution_count": null,
      "outputs": [
        {
          "output_type": "stream",
          "name": "stdout",
          "text": [
            "0.4265644682453702\n"
          ]
        }
      ]
    },
    {
      "cell_type": "code",
      "source": [
        "import numpy as np\n",
        "x = np.random.rand()\n",
        "print(x)"
      ],
      "metadata": {
        "colab": {
          "base_uri": "https://localhost:8080/"
        },
        "id": "gGrxQzS9IlBc",
        "outputId": "1c4d9d96-477d-4d6b-9b80-14f79444c04c"
      },
      "execution_count": null,
      "outputs": [
        {
          "output_type": "stream",
          "name": "stdout",
          "text": [
            "0.10940735934207513\n"
          ]
        }
      ]
    },
    {
      "cell_type": "code",
      "source": [
        "from numpy.random import rand\n",
        "x = rand()\n",
        "print(x)"
      ],
      "metadata": {
        "colab": {
          "base_uri": "https://localhost:8080/"
        },
        "id": "td_V0FwtIzpy",
        "outputId": "40d5ed27-67af-4622-b7e4-a6853a217d22"
      },
      "execution_count": null,
      "outputs": [
        {
          "output_type": "stream",
          "name": "stdout",
          "text": [
            "0.3332730936517696\n"
          ]
        }
      ]
    },
    {
      "cell_type": "markdown",
      "source": [
        "## 배열 연산\n",
        "- 덧셈 : np.add()\n",
        "- 뺄셈 : np.subtract()\n",
        "- 곱셈 : np.multiply()\n",
        "- 나눗셈 : np.divide()"
      ],
      "metadata": {
        "id": "mNpsekS1Prjv"
      }
    },
    {
      "cell_type": "code",
      "source": [
        "import numpy as np\n",
        "\n",
        "array_01 =np.array([1, 2, 3])\n",
        "array_02 = np.array([10, 20, 30])\n",
        "\n",
        "# 덧셈\n",
        "result = np.add(array_01, array_02)\n",
        "result"
      ],
      "metadata": {
        "colab": {
          "base_uri": "https://localhost:8080/"
        },
        "id": "7NjUBuKIPtIE",
        "outputId": "c0811533-846d-4e8e-a09a-8b398d3f3566"
      },
      "execution_count": null,
      "outputs": [
        {
          "output_type": "execute_result",
          "data": {
            "text/plain": [
              "array([11, 22, 33])"
            ]
          },
          "metadata": {},
          "execution_count": 54
        }
      ]
    },
    {
      "cell_type": "markdown",
      "source": [],
      "metadata": {
        "id": "N89ZTIaNQEyc"
      }
    },
    {
      "cell_type": "code",
      "source": [
        "# 뺄셈\n",
        "result = np.subtract(array_01, array_02)\n",
        "result"
      ],
      "metadata": {
        "colab": {
          "base_uri": "https://localhost:8080/"
        },
        "id": "Q0aItPzWQFed",
        "outputId": "4ab6373a-10da-49da-aca1-c71765bb8d8b"
      },
      "execution_count": null,
      "outputs": [
        {
          "output_type": "execute_result",
          "data": {
            "text/plain": [
              "array([ -9, -18, -27])"
            ]
          },
          "metadata": {},
          "execution_count": 56
        }
      ]
    },
    {
      "cell_type": "code",
      "source": [
        "# 곱셈\n",
        "result = np.multiply(array_01, array_02)\n",
        "result"
      ],
      "metadata": {
        "colab": {
          "base_uri": "https://localhost:8080/"
        },
        "id": "g5xrJof9Qwqt",
        "outputId": "6c811b46-5840-4aba-abae-c694836745ea"
      },
      "execution_count": null,
      "outputs": [
        {
          "output_type": "execute_result",
          "data": {
            "text/plain": [
              "array([1, 4, 9])"
            ]
          },
          "metadata": {},
          "execution_count": 61
        }
      ]
    },
    {
      "cell_type": "code",
      "source": [
        "# 나눗셈\n",
        "result = np.divide(array_01, array_02)\n",
        "result"
      ],
      "metadata": {
        "colab": {
          "base_uri": "https://localhost:8080/"
        },
        "id": "0Skm7mdtQUxZ",
        "outputId": "65e980a4-b80c-477b-99fc-31b37de25222"
      },
      "execution_count": null,
      "outputs": [
        {
          "output_type": "execute_result",
          "data": {
            "text/plain": [
              "array([0.1, 0.1, 0.1])"
            ]
          },
          "metadata": {},
          "execution_count": 59
        }
      ]
    },
    {
      "cell_type": "code",
      "source": [
        "array_01 =np.array([1, 2, 3])\n",
        "array_02 =np.array([1, 2, 3])\n",
        "\n",
        "result = np.power(array_01, array_02)\n",
        "print(result)"
      ],
      "metadata": {
        "colab": {
          "base_uri": "https://localhost:8080/"
        },
        "id": "ekdNo_YcQew2",
        "outputId": "9e33ecec-3737-4bcc-ae3e-853f7eb12777"
      },
      "execution_count": null,
      "outputs": [
        {
          "output_type": "stream",
          "name": "stdout",
          "text": [
            "[ 1  4 27]\n"
          ]
        }
      ]
    },
    {
      "cell_type": "markdown",
      "source": [
        "## 소숫점 정렬\n",
        "- 소숫점 절삭"
      ],
      "metadata": {
        "id": "OqDGUi88Q3m3"
      }
    },
    {
      "cell_type": "markdown",
      "source": [
        "- 코드는 실행속도 체크"
      ],
      "metadata": {
        "id": "MjZCAcLMSnTH"
      }
    },
    {
      "cell_type": "code",
      "source": [
        "%%time\n",
        "\n",
        "temp_arr = np.trunc([-1.23, 1.23])\n",
        "print(temp_arr)"
      ],
      "metadata": {
        "colab": {
          "base_uri": "https://localhost:8080/"
        },
        "id": "jpiwhjuaRRoE",
        "outputId": "7953d055-dcd9-42c7-f021-8e7d0c170143"
      },
      "execution_count": null,
      "outputs": [
        {
          "output_type": "stream",
          "name": "stdout",
          "text": [
            "[-1.  1.]\n",
            "CPU times: user 1.13 ms, sys: 6 µs, total: 1.13 ms\n",
            "Wall time: 1.15 ms\n"
          ]
        }
      ]
    },
    {
      "cell_type": "code",
      "source": [
        "%%time\n",
        "\n",
        "temp_arr = np.fix([-1.23, 1.23])\n",
        "print(temp_arr)"
      ],
      "metadata": {
        "colab": {
          "base_uri": "https://localhost:8080/"
        },
        "id": "GbBtHXklRbfv",
        "outputId": "31330745-b23d-4e11-9cac-0d2b5bf76e73"
      },
      "execution_count": null,
      "outputs": [
        {
          "output_type": "stream",
          "name": "stdout",
          "text": [
            "[-1.  1.]\n",
            "CPU times: user 1.39 ms, sys: 0 ns, total: 1.39 ms\n",
            "Wall time: 1.4 ms\n"
          ]
        }
      ]
    },
    {
      "cell_type": "markdown",
      "source": [
        "- 소숫점 자리에서 반올림"
      ],
      "metadata": {
        "id": "1uA3v-JBSLg8"
      }
    },
    {
      "cell_type": "code",
      "source": [
        "temp_arr = np.around([-1.123131, 1.123131] , 3)\n",
        "print(temp_arr)\n",
        "\n",
        "temp_arr = np.round([-1.123131, 1.123131] , 3)\n",
        "print(temp_arr)\n"
      ],
      "metadata": {
        "colab": {
          "base_uri": "https://localhost:8080/"
        },
        "id": "lk9AReFHSOl1",
        "outputId": "40a55f8a-a069-45fd-e7ef-f4bb5043cbae"
      },
      "execution_count": null,
      "outputs": [
        {
          "output_type": "stream",
          "name": "stdout",
          "text": [
            "[-1.123  1.123]\n",
            "[-1.123  1.123]\n"
          ]
        }
      ]
    },
    {
      "cell_type": "markdown",
      "source": [
        "- 소숫점 모두 내린다"
      ],
      "metadata": {
        "id": "vNGInTlwUbGt"
      }
    },
    {
      "cell_type": "code",
      "source": [
        "import time\n",
        "\n",
        "#Start time\n",
        "start_time = time.time()\n",
        "\n",
        "temp_arr = np.floor([-1.123131, 1.123131])\n",
        "print(temp_arr)\n",
        "\n",
        "# End time\n",
        "end_time = time.time()\n",
        "\n",
        "# Execution time\n",
        "execution_time = end_time - start_time\n",
        "\n",
        "print(\"Execution time:\" , execution_time)"
      ],
      "metadata": {
        "colab": {
          "base_uri": "https://localhost:8080/"
        },
        "id": "2UTiEjscUdD-",
        "outputId": "a021c0fb-d8b5-4ee8-c5bb-9c87c0fa188e"
      },
      "execution_count": null,
      "outputs": [
        {
          "output_type": "stream",
          "name": "stdout",
          "text": [
            "[-2.  1.]\n",
            "Execution time: 0.0024423599243164062\n"
          ]
        }
      ]
    },
    {
      "cell_type": "markdown",
      "source": [
        "## 조건문\n",
        "- where : 조건식 1개일 때 활용\n",
        "- select : 다중조건일 때 활용"
      ],
      "metadata": {
        "id": "IQCU5-hEVZUm"
      }
    },
    {
      "cell_type": "code",
      "source": [
        "temp_arr = np.arange(10)\n",
        "temp_arr"
      ],
      "metadata": {
        "colab": {
          "base_uri": "https://localhost:8080/"
        },
        "id": "9bUUfWRvViH3",
        "outputId": "0256dad7-5588-4401-dfca-c6fd91adeed3"
      },
      "execution_count": null,
      "outputs": [
        {
          "output_type": "execute_result",
          "data": {
            "text/plain": [
              "array([0, 1, 2, 3, 4, 5, 6, 7, 8, 9])"
            ]
          },
          "metadata": {},
          "execution_count": 76
        }
      ]
    },
    {
      "cell_type": "markdown",
      "source": [
        "- np.where"
      ],
      "metadata": {
        "id": "ruevn-enVuud"
      }
    },
    {
      "cell_type": "code",
      "source": [
        "np.where(temp_arr < 5, temp_arr, 10 * temp_arr)"
      ],
      "metadata": {
        "colab": {
          "base_uri": "https://localhost:8080/"
        },
        "id": "o7A8t3zBVyBI",
        "outputId": "0b276308-0c69-419b-a0ec-f76078cd0010"
      },
      "execution_count": null,
      "outputs": [
        {
          "output_type": "execute_result",
          "data": {
            "text/plain": [
              "array([ 0,  1,  2,  3,  4, 50, 60, 70, 80, 90])"
            ]
          },
          "metadata": {},
          "execution_count": 78
        }
      ]
    },
    {
      "cell_type": "code",
      "source": [
        "temp_srr = np.arange(10)\n",
        "cond_list = [temp_arr > 5, temp_arr < 2]\n",
        "choice_list = [temp_arr * 3, temp_arr +10]\n",
        "\n",
        "np.select(cond_list, choice_list, default = temp_arr)"
      ],
      "metadata": {
        "colab": {
          "base_uri": "https://localhost:8080/"
        },
        "id": "x_RRgnHWWDJ6",
        "outputId": "8afbfb72-01e8-4c10-e20c-9bfa819ff65b"
      },
      "execution_count": null,
      "outputs": [
        {
          "output_type": "execute_result",
          "data": {
            "text/plain": [
              "array([10, 11,  2,  3,  4,  5, 18, 21, 24, 27])"
            ]
          },
          "metadata": {},
          "execution_count": 79
        }
      ]
    },
    {
      "cell_type": "markdown",
      "source": [
        "- **브로드캐스팅**은 서로 다른 크기의 배열을 계산할 때의 기본적인 규칙을 의미한다\n",
        "\n",
        "- 참조 : https://numpy.org/devdocs/user/basics.broadcasting.html"
      ],
      "metadata": {
        "id": "Dh2PJFTW-BOM"
      }
    }
  ]
}