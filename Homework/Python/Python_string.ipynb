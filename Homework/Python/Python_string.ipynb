{
  "nbformat": 4,
  "nbformat_minor": 0,
  "metadata": {
    "colab": {
      "provenance": [],
      "toc_visible": true
    },
    "kernelspec": {
      "name": "python3",
      "display_name": "Python 3"
    },
    "language_info": {
      "name": "python"
    }
  },
  "cells": [
    {
      "cell_type": "markdown",
      "source": [
        "# 문자열이란?\n",
        "- 문자열(String)이란 문자, 단어 등으로 구성된 문자들의 집합\n",
        "- 따옴표로 둘러싸여 있으면 모두 문자열\n"
      ],
      "metadata": {
        "id": "r7YPTL3TLTpA"
      }
    },
    {
      "cell_type": "markdown",
      "source": [
        "#문자열은 어떻게 만들고 사용할까?\n",
        "1. 큰따옴표(\")로 양쪽 둘러싸기"
      ],
      "metadata": {
        "id": "Y4BgEfQHMGWP"
      }
    },
    {
      "cell_type": "code",
      "source": [
        "\"Hello World\""
      ],
      "metadata": {
        "id": "WY_QUgCTMNAm"
      },
      "execution_count": null,
      "outputs": []
    },
    {
      "cell_type": "markdown",
      "source": [
        "2. 작은따옴표(')로 양쪽 둘러싸기"
      ],
      "metadata": {
        "id": "QKf4MG3HMQ2u"
      }
    },
    {
      "cell_type": "code",
      "source": [
        "'Python is fum'"
      ],
      "metadata": {
        "id": "1XTlV9dQMUIc"
      },
      "execution_count": null,
      "outputs": []
    },
    {
      "cell_type": "markdown",
      "source": [
        "3. 큰따옴표 3개를 연속(\"\"\")으로 써서 양쪽 둘러싸기"
      ],
      "metadata": {
        "id": "HK5J2788MWjB"
      }
    },
    {
      "cell_type": "code",
      "source": [
        "\"\"\" Life is too short, You need python\"\"\""
      ],
      "metadata": {
        "id": "ENEQMWosMY5H"
      },
      "execution_count": null,
      "outputs": []
    },
    {
      "cell_type": "markdown",
      "source": [
        "4. 작은따옴표 3개를 연속(''')으로 써서 양쪽 둘러싸기"
      ],
      "metadata": {
        "id": "FqFuEOddMheP"
      }
    },
    {
      "cell_type": "code",
      "source": [
        "'''Lige is too short, You need python'''"
      ],
      "metadata": {
        "id": "2MOICZfyMjV3"
      },
      "execution_count": null,
      "outputs": []
    },
    {
      "cell_type": "markdown",
      "source": [
        "##문자열 안에 작은따옴표나 큰따옴표를 포함시키고 싶을 때\n",
        ": 문자열 안에도 작은따옴표와 큰따옴표가 들어 있어야 할 경우\n",
        "\n",
        "1. 문자열에 작은따옴표 (') 포함시키기"
      ],
      "metadata": {
        "id": "AdweSTRSMuJJ"
      }
    },
    {
      "cell_type": "code",
      "source": [
        "food = \"Python's favorite food is perl\"\n",
        "food"
      ],
      "metadata": {
        "colab": {
          "base_uri": "https://localhost:8080/",
          "height": 35
        },
        "id": "6POSjOb-Nh0g",
        "outputId": "78323a0a-19a2-42e4-d434-4bcea1f93d4c"
      },
      "execution_count": null,
      "outputs": [
        {
          "output_type": "execute_result",
          "data": {
            "text/plain": [
              "\"Python's favorite food is perl\""
            ],
            "application/vnd.google.colaboratory.intrinsic+json": {
              "type": "string"
            }
          },
          "metadata": {},
          "execution_count": 9
        }
      ]
    },
    {
      "cell_type": "markdown",
      "source": [
        "작은따옴표(')가 포함된 문자열이라면 큰따옴표(\")로 둘러싸면 된다."
      ],
      "metadata": {
        "id": "gHW48XD9Ec1P"
      }
    },
    {
      "cell_type": "markdown",
      "source": [
        "큰따옴표(\")가 아닌 작은따옴표(')로 문자열을 둘러싼 후 다시 실행해 보자. 'Python'이 문자열로 인식되어 구문 오류(SyntaxError)가 발생"
      ],
      "metadata": {
        "id": "ZYq7MH7rPBI_"
      }
    },
    {
      "cell_type": "code",
      "source": [
        "food = 'Python's favorite food is perl'"
      ],
      "metadata": {
        "colab": {
          "base_uri": "https://localhost:8080/",
          "height": 137
        },
        "id": "-JnwFi9UOjLJ",
        "outputId": "1b81a45b-e23b-48f5-a2e9-012496f041c7"
      },
      "execution_count": null,
      "outputs": [
        {
          "output_type": "error",
          "ename": "SyntaxError",
          "evalue": "ignored",
          "traceback": [
            "\u001b[0;36m  File \u001b[0;32m\"<ipython-input-6-336a85538234>\"\u001b[0;36m, line \u001b[0;32m1\u001b[0m\n\u001b[0;31m    food = 'Python's favorite food is perl'\u001b[0m\n\u001b[0m                   ^\u001b[0m\n\u001b[0;31mSyntaxError\u001b[0m\u001b[0;31m:\u001b[0m invalid syntax\n"
          ]
        }
      ]
    },
    {
      "cell_type": "markdown",
      "source": [
        "2. 문자열에 큰따옴표 (\") 포함시키기\n"
      ],
      "metadata": {
        "id": "cEnXm0tyPkKH"
      }
    },
    {
      "cell_type": "code",
      "source": [
        "say = '\"Python is very easy.\" he says.'\n",
        "say"
      ],
      "metadata": {
        "colab": {
          "base_uri": "https://localhost:8080/",
          "height": 35
        },
        "id": "9Q2mVU4UPngx",
        "outputId": "5c28923b-122b-40ca-a504-5c963507df34"
      },
      "execution_count": null,
      "outputs": [
        {
          "output_type": "execute_result",
          "data": {
            "text/plain": [
              "'\"Python is very easy.\" he says.'"
            ],
            "application/vnd.google.colaboratory.intrinsic+json": {
              "type": "string"
            }
          },
          "metadata": {},
          "execution_count": 10
        }
      ]
    },
    {
      "cell_type": "markdown",
      "source": [
        "큰따옴표(\")가 포함된 문자열이라면 작은따옴표(')로 둘러싸면 된다.\n",
        "\n",
        "작은따옴표(') 안에 사용된 큰따옴표(\")는 문자열을 만드는 기호로 인식되지 않는다."
      ],
      "metadata": {
        "id": "pXK_Sx4oQGng"
      }
    },
    {
      "cell_type": "markdown",
      "source": [
        "3. **백슬래시(\\\\**)를 사용해서 작은따옴표(')와 큰따옴표(\")를 문자열에 포함시키기"
      ],
      "metadata": {
        "id": "Y0EZ_gNGQY7_"
      }
    },
    {
      "cell_type": "code",
      "source": [
        "food = 'Python\\'s favorite food is perl'\n",
        "say = \"\\\"Python is very easy.\\\" he says.\"\n",
        "print(food)\n",
        "print(say)"
      ],
      "metadata": {
        "colab": {
          "base_uri": "https://localhost:8080/"
        },
        "id": "u4iUu6KsQcUP",
        "outputId": "8da04076-cb39-4100-e098-4eb2c917ccdd"
      },
      "execution_count": null,
      "outputs": [
        {
          "output_type": "stream",
          "name": "stdout",
          "text": [
            "Python's favorite food is perl\n",
            "\"Python is very easy.\" he says.\n"
          ]
        }
      ]
    },
    {
      "cell_type": "markdown",
      "source": [
        "**백슬래시(\\\\)**를 작은따옴표(')나 큰따옴표(\") **앞**에 삽입"
      ],
      "metadata": {
        "id": "dF2Nl4LMRa8I"
      }
    },
    {
      "cell_type": "markdown",
      "source": [
        "##여러 줄인 문자열을 변수에 대입하고 싶을 때\n",
        "1. **줄을 바꾸기** 위한 이스케이프 코드 **\\n** 삽입하기"
      ],
      "metadata": {
        "id": "cCpjV-MhndyF"
      }
    },
    {
      "cell_type": "code",
      "source": [
        "multiline = \"Life is too short\\nYou need python\"\n",
        "print(multiline)"
      ],
      "metadata": {
        "colab": {
          "base_uri": "https://localhost:8080/"
        },
        "id": "djIfabFan3L4",
        "outputId": "defca4d4-acc6-4777-cb97-f1ed953744d0"
      },
      "execution_count": null,
      "outputs": [
        {
          "output_type": "stream",
          "name": "stdout",
          "text": [
            "Life is too short\n",
            "You need python\n"
          ]
        }
      ]
    },
    {
      "cell_type": "markdown",
      "source": [
        "2. 연속된 **작은따옴표 3개(''')** 또는 **큰따옴표 3개(\"\"\")** 사용하기"
      ],
      "metadata": {
        "id": "kTDaFlyboKCQ"
      }
    },
    {
      "cell_type": "code",
      "source": [
        "mutiline = '''\n",
        "Life is too short\n",
        "You need python\n",
        "'''\n",
        "print(multiline)"
      ],
      "metadata": {
        "colab": {
          "base_uri": "https://localhost:8080/"
        },
        "id": "2UB360zOoM-O",
        "outputId": "feba48d0-73ea-4d06-cd4a-d46329dec7db"
      },
      "execution_count": null,
      "outputs": [
        {
          "output_type": "stream",
          "name": "stdout",
          "text": [
            "Life is too short\n",
            "You need python\n"
          ]
        }
      ]
    },
    {
      "cell_type": "code",
      "source": [
        "mutiline = \"\"\"\n",
        "Life is too short\n",
        "You need python\n",
        "\"\"\"\n",
        "print(multiline)"
      ],
      "metadata": {
        "colab": {
          "base_uri": "https://localhost:8080/"
        },
        "id": "VFFseV8kof-s",
        "outputId": "876d5841-4781-48a0-afcf-53ae70561d15"
      },
      "execution_count": null,
      "outputs": [
        {
          "output_type": "stream",
          "name": "stdout",
          "text": [
            "Life is too short\n",
            "You need python\n"
          ]
        }
      ]
    },
    {
      "cell_type": "markdown",
      "source": [
        "##이스케이프 코드란?\n",
        "\n",
        "프로그래밍할 때 사용할 수 있도록 **미리 정의해 둔 \"문자 조합\"**으로\n",
        "\n",
        "출력물을 보기 좋게 **정렬하는 용도**로 사용\n"
      ],
      "metadata": {
        "id": "oIODH8EBowG9"
      }
    },
    {
      "cell_type": "markdown",
      "source": [
        "- \\n : 문자열 안에서 줄을 바꿀 때 사용\n",
        "- \\t : 문자열 사이에 탭 간격을 줄 때 사용\n",
        "- \\\\\\ : 문자 \\를 그대로 표현할 때 사용\n",
        "- \\\\' : 작은따옴표(')를 그대로 표현할 때 사용\n",
        "- \\\\\" : 큰따옴표(\"\")를 그대로 표현할 때 사용\n",
        "- \\r : 캐리지 리턴(줄 바꿈 문자, 현재 커서를 가장 앞으로 이동)\n",
        "- \\f : 폼 피드(줄 바꿈 문자, 현재 커서를 다음 줄로 이동)\n",
        "- \\a : 벨 소리(출력할 때 PC 스피커에서  '삑' 소리가 난다)\n",
        "- \\b : 백 스페이스\n",
        "- \\000 : 널 문자"
      ],
      "metadata": {
        "id": "ix7v8meSpR22"
      }
    },
    {
      "cell_type": "markdown",
      "source": [
        "#문자열 연산하기\n"
      ],
      "metadata": {
        "id": "pHp1Gx8bqkit"
      }
    },
    {
      "cell_type": "markdown",
      "source": [
        "##문자열 더해서 연결하기(Concatenation)"
      ],
      "metadata": {
        "id": "lnAWhD2zqqJW"
      }
    },
    {
      "cell_type": "code",
      "source": [
        "head = \"Python\"\n",
        "tail = \" is fun!\"\n",
        "head + tail"
      ],
      "metadata": {
        "colab": {
          "base_uri": "https://localhost:8080/",
          "height": 35
        },
        "id": "wUh11aIdqx7O",
        "outputId": "db5a27a4-3c04-4fa4-ee10-d7129d6e60c4"
      },
      "execution_count": null,
      "outputs": [
        {
          "output_type": "execute_result",
          "data": {
            "text/plain": [
              "'Python is fun!'"
            ],
            "application/vnd.google.colaboratory.intrinsic+json": {
              "type": "string"
            }
          },
          "metadata": {},
          "execution_count": 6
        }
      ]
    },
    {
      "cell_type": "markdown",
      "source": [
        "##문자열 곱하기기"
      ],
      "metadata": {
        "id": "J8lnjI9QrA0R"
      }
    },
    {
      "cell_type": "code",
      "source": [
        "a = \"python\"\n",
        "a * 2\n"
      ],
      "metadata": {
        "colab": {
          "base_uri": "https://localhost:8080/",
          "height": 35
        },
        "id": "W_ht189UrDS6",
        "outputId": "5c73256b-8375-4702-d070-2d2331b21fc6"
      },
      "execution_count": null,
      "outputs": [
        {
          "output_type": "execute_result",
          "data": {
            "text/plain": [
              "'pythonpython'"
            ],
            "application/vnd.google.colaboratory.intrinsic+json": {
              "type": "string"
            }
          },
          "metadata": {},
          "execution_count": 7
        }
      ]
    },
    {
      "cell_type": "markdown",
      "source": [
        "*는 문자열의 반복을 뜻하는 의미로 사용"
      ],
      "metadata": {
        "id": "kE8arRL_rPhX"
      }
    },
    {
      "cell_type": "markdown",
      "source": [
        "##문자열 곱하기 응용"
      ],
      "metadata": {
        "id": "mnM-sX80rQHd"
      }
    },
    {
      "cell_type": "code",
      "source": [
        "# multistring.py\n",
        "\n",
        "print(\"=\" * 50)\n",
        "print(\"My Program\")\n",
        "print(\"=\" * 50)"
      ],
      "metadata": {
        "colab": {
          "base_uri": "https://localhost:8080/"
        },
        "id": "j7zr39WhrTo9",
        "outputId": "1ec26255-485e-4faf-f6cf-7232f6a681f1"
      },
      "execution_count": null,
      "outputs": [
        {
          "output_type": "stream",
          "name": "stdout",
          "text": [
            "==================================================\n",
            "My Program\n",
            "==================================================\n"
          ]
        }
      ]
    },
    {
      "cell_type": "markdown",
      "source": [
        "##문자열 길이 구하기"
      ],
      "metadata": {
        "id": "X1qm38gRsQN2"
      }
    },
    {
      "cell_type": "code",
      "source": [
        "a = \"Life is too short\"\n",
        "len(a)"
      ],
      "metadata": {
        "colab": {
          "base_uri": "https://localhost:8080/"
        },
        "id": "s7D14WwssTMd",
        "outputId": "ddd135d3-b6de-45df-8f19-1d8baa3cdc5c"
      },
      "execution_count": null,
      "outputs": [
        {
          "output_type": "execute_result",
          "data": {
            "text/plain": [
              "17"
            ]
          },
          "metadata": {},
          "execution_count": 10
        }
      ]
    },
    {
      "cell_type": "markdown",
      "source": [
        "#문자열 인덱싱과 슬라이싱"
      ],
      "metadata": {
        "id": "g99lJK69sdVD"
      }
    },
    {
      "cell_type": "markdown",
      "source": [
        "##문자열 인덱싱이란?"
      ],
      "metadata": {
        "id": "06qkxKubshmZ"
      }
    },
    {
      "cell_type": "code",
      "source": [
        " a = \"Life is too short, You need Python\"\n",
        " a[3]"
      ],
      "metadata": {
        "colab": {
          "base_uri": "https://localhost:8080/",
          "height": 35
        },
        "id": "JgJkWwP-sleV",
        "outputId": "609a335d-5195-44eb-e1d9-bf04e0c040d7"
      },
      "execution_count": null,
      "outputs": [
        {
          "output_type": "execute_result",
          "data": {
            "text/plain": [
              "'e'"
            ],
            "application/vnd.google.colaboratory.intrinsic+json": {
              "type": "string"
            }
          },
          "metadata": {},
          "execution_count": 11
        }
      ]
    },
    {
      "cell_type": "markdown",
      "source": [
        "**\"파이썬은 0부터 숫자를 센다.\"**"
      ],
      "metadata": {
        "id": "-JQle-hKs2ON"
      }
    },
    {
      "cell_type": "markdown",
      "source": [
        "a[번호]는 **문자열 안의 특정한 값을 뽑아**내는 역할을 한다. 이러한 작업을 인덱싱"
      ],
      "metadata": {
        "id": "Mdj-7zYbs4vz"
      }
    },
    {
      "cell_type": "markdown",
      "source": [
        "##문자열 인덱싱 활용하기"
      ],
      "metadata": {
        "id": "wHsktUSBs9BM"
      }
    },
    {
      "cell_type": "code",
      "source": [
        "a = \"Life is too short, You need Python\"\n",
        "a[-1]"
      ],
      "metadata": {
        "colab": {
          "base_uri": "https://localhost:8080/",
          "height": 35
        },
        "id": "iArVmOMetBUL",
        "outputId": "0495808f-26e7-4a60-8e5f-6c5e4beee258"
      },
      "execution_count": null,
      "outputs": [
        {
          "output_type": "execute_result",
          "data": {
            "text/plain": [
              "'n'"
            ],
            "application/vnd.google.colaboratory.intrinsic+json": {
              "type": "string"
            }
          },
          "metadata": {},
          "execution_count": 14
        }
      ]
    },
    {
      "cell_type": "markdown",
      "source": [
        "**문자열을 뒤에서부터 읽기** 위해 **마이너스(-) 기호**를 붙이는 것"
      ],
      "metadata": {
        "id": "j_v-RnqwtPv0"
      }
    },
    {
      "cell_type": "code",
      "source": [
        "a = \"Life is too short, You need Python\"\n",
        "a[-0]"
      ],
      "metadata": {
        "colab": {
          "base_uri": "https://localhost:8080/",
          "height": 35
        },
        "id": "07v9dZSHtdxQ",
        "outputId": "5d44a3eb-3a43-4392-960b-9e85b80d0600"
      },
      "execution_count": null,
      "outputs": [
        {
          "output_type": "execute_result",
          "data": {
            "text/plain": [
              "'L'"
            ],
            "application/vnd.google.colaboratory.intrinsic+json": {
              "type": "string"
            }
          },
          "metadata": {},
          "execution_count": 15
        }
      ]
    },
    {
      "cell_type": "markdown",
      "source": [
        "##문자열 슬라이싱이란?"
      ],
      "metadata": {
        "id": "EXia5kqBthWR"
      }
    },
    {
      "cell_type": "code",
      "source": [],
      "metadata": {
        "id": "Xjl6aqnrvWkC"
      },
      "execution_count": null,
      "outputs": []
    },
    {
      "cell_type": "code",
      "source": [
        "a = \"Life is too short, You need Python\"\n",
        "b = a[0] + a[1] + a[2] + a[3]\n",
        "b"
      ],
      "metadata": {
        "colab": {
          "base_uri": "https://localhost:8080/",
          "height": 35
        },
        "id": "cfiice0QuOQJ",
        "outputId": "7ad4b0b8-e675-40af-8b77-711a56b6b289"
      },
      "execution_count": null,
      "outputs": [
        {
          "output_type": "execute_result",
          "data": {
            "text/plain": [
              "'Life'"
            ],
            "application/vnd.google.colaboratory.intrinsic+json": {
              "type": "string"
            }
          },
          "metadata": {},
          "execution_count": 16
        }
      ]
    },
    {
      "cell_type": "markdown",
      "source": [
        "\n",
        "\n",
        ">인덱싱 기법과 슬라이싱 기법은 뒤에서 배울 자료형인 리스트나 튜플에서도 사용할 수 있다.\n",
        "\n"
      ],
      "metadata": {
        "id": "5m7Tb2bDuj4b"
      }
    },
    {
      "cell_type": "code",
      "source": [
        "a = \"Life is too short, You need Python\"\n",
        "a[0:3]"
      ],
      "metadata": {
        "colab": {
          "base_uri": "https://localhost:8080/",
          "height": 35
        },
        "id": "4EHio65MupRr",
        "outputId": "4d6656d8-9ec7-4cbb-9c74-264c0a137f89"
      },
      "execution_count": null,
      "outputs": [
        {
          "output_type": "execute_result",
          "data": {
            "text/plain": [
              "'Lif'"
            ],
            "application/vnd.google.colaboratory.intrinsic+json": {
              "type": "string"
            }
          },
          "metadata": {},
          "execution_count": 17
        }
      ]
    },
    {
      "cell_type": "markdown",
      "source": [
        "a[시작 번호:끝 번호]를 지정할 때 **끝 번호에 해당하는 것은 포함하지 않는다**"
      ],
      "metadata": {
        "id": "v9o_M1n3u3MC"
      }
    },
    {
      "cell_type": "markdown",
      "source": [
        "0 <= a < 3"
      ],
      "metadata": {
        "id": "K06BmTgNu4vh"
      }
    },
    {
      "cell_type": "markdown",
      "source": [
        "## 문자열을 슬라이싱 하는 방법"
      ],
      "metadata": {
        "id": "1HBdGPAlu6gq"
      }
    },
    {
      "cell_type": "code",
      "source": [
        "a = \"Life is too short, You need Python\"\n",
        "a[0:5]"
      ],
      "metadata": {
        "colab": {
          "base_uri": "https://localhost:8080/",
          "height": 35
        },
        "id": "t7iKncneu9Ue",
        "outputId": "873b3056-b495-47b6-e4d2-47bc698511a0"
      },
      "execution_count": null,
      "outputs": [
        {
          "output_type": "execute_result",
          "data": {
            "text/plain": [
              "'Life '"
            ],
            "application/vnd.google.colaboratory.intrinsic+json": {
              "type": "string"
            }
          },
          "metadata": {},
          "execution_count": 18
        }
      ]
    },
    {
      "cell_type": "markdown",
      "source": [
        "공백 문자 역시 L, i, f, e 같은 문자와 동일하게 취급"
      ],
      "metadata": {
        "id": "FhQ_r7-KvHPW"
      }
    },
    {
      "cell_type": "code",
      "source": [
        "a = \"Life is too short, You need Python\"\n",
        "print(a[5:7])\n",
        "print(a[19:])\n",
        "print(a[:17])\n",
        "print(a[:])"
      ],
      "metadata": {
        "colab": {
          "base_uri": "https://localhost:8080/"
        },
        "id": "mS5RNmKMvMzO",
        "outputId": "8cefc579-93c9-4379-d3d7-785ee3224358"
      },
      "execution_count": null,
      "outputs": [
        {
          "output_type": "stream",
          "name": "stdout",
          "text": [
            "is\n",
            "You need Python\n",
            "Life is too short\n",
            "Life is too short, You need Python\n"
          ]
        }
      ]
    },
    {
      "cell_type": "markdown",
      "source": [
        "a[시작 번호:끝 번호]에서 끝 번호 부분을 생략하면 시작 번호부터 그 문자열의 끝까지 뽑아낸다."
      ],
      "metadata": {
        "id": "n5s0CBpMv8Qu"
      }
    },
    {
      "cell_type": "markdown",
      "source": [
        "a[시작 번호:끝 번호]에서 시작 번호를 생략하면 문자열의 처음부터 끝 번호까지 뽑아낸다."
      ],
      "metadata": {
        "id": "5COq4MOpv-78"
      }
    },
    {
      "cell_type": "markdown",
      "source": [
        "a[시작 번호:끝 번호]에서 시작 번호와 끝 번호를 생략하면 문자열의 처음부터 끝까지를 뽑아낸다."
      ],
      "metadata": {
        "id": "LaL5zUs0v9_l"
      }
    },
    {
      "cell_type": "code",
      "source": [
        "a = \"Life is too short, You need Python\"\n",
        "print(a[19:-7])"
      ],
      "metadata": {
        "colab": {
          "base_uri": "https://localhost:8080/"
        },
        "id": "mpEvjuo5wMGf",
        "outputId": "4d5db7f3-75a4-46b2-b28f-e2bd3011a2d2"
      },
      "execution_count": null,
      "outputs": [
        {
          "output_type": "stream",
          "name": "stdout",
          "text": [
            "You need\n"
          ]
        }
      ]
    },
    {
      "cell_type": "markdown",
      "source": [
        " 역시 a[-7]은 포함하지 않는다."
      ],
      "metadata": {
        "id": "ej0-MUEXwJGW"
      }
    },
    {
      "cell_type": "markdown",
      "source": [
        "## 슬라이싱으로 문자열 나누기"
      ],
      "metadata": {
        "id": "sj-60HxrwSDH"
      }
    },
    {
      "cell_type": "code",
      "source": [
        "a = \"20010331Rainy\"\n",
        "date = a[:8]\n",
        "weather = a[8:]\n",
        "print(date)\n",
        "print(weather)"
      ],
      "metadata": {
        "colab": {
          "base_uri": "https://localhost:8080/"
        },
        "id": "Cdt4QRUkwVM-",
        "outputId": "0477ee1b-4df1-4307-8429-db32be06af14"
      },
      "execution_count": null,
      "outputs": [
        {
          "output_type": "stream",
          "name": "stdout",
          "text": [
            "20010331\n",
            "Rainy\n"
          ]
        }
      ]
    },
    {
      "cell_type": "code",
      "source": [],
      "metadata": {
        "id": "wlgL2zJYw1cJ"
      },
      "execution_count": null,
      "outputs": []
    },
    {
      "cell_type": "code",
      "source": [
        "a = \"20010331Rainy\"\n",
        "year = a[:4]\n",
        "day = a[4:8]\n",
        "weather = a[8:]\n",
        "print(year)\n",
        "print(day)\n",
        "print(weather)"
      ],
      "metadata": {
        "colab": {
          "base_uri": "https://localhost:8080/"
        },
        "id": "oTtl69Taw2AM",
        "outputId": "4a3ca359-a7b9-4ccb-9571-c3201ad71ae8"
      },
      "execution_count": null,
      "outputs": [
        {
          "output_type": "stream",
          "name": "stdout",
          "text": [
            "2001\n",
            "0331\n",
            "Rainy\n"
          ]
        }
      ]
    },
    {
      "cell_type": "markdown",
      "source": [
        "##\"Pithon\"이라는 문자열을 \"Python\"으로 바꾸려면?\n"
      ],
      "metadata": {
        "id": "hZPpmLjBxQqt"
      }
    },
    {
      "cell_type": "code",
      "source": [
        "a = \"Pithon\"\n",
        "a[1] = 'y'\n",
        "print(a[1])\n"
      ],
      "metadata": {
        "colab": {
          "base_uri": "https://localhost:8080/",
          "height": 211
        },
        "id": "UPcratswxWcw",
        "outputId": "5eace474-d01d-4e15-9232-1a092c953867"
      },
      "execution_count": null,
      "outputs": [
        {
          "output_type": "error",
          "ename": "TypeError",
          "evalue": "ignored",
          "traceback": [
            "\u001b[0;31m---------------------------------------------------------------------------\u001b[0m",
            "\u001b[0;31mTypeError\u001b[0m                                 Traceback (most recent call last)",
            "\u001b[0;32m<ipython-input-41-770880fdeff7>\u001b[0m in \u001b[0;36m<module>\u001b[0;34m\u001b[0m\n\u001b[1;32m      1\u001b[0m \u001b[0ma\u001b[0m \u001b[0;34m=\u001b[0m \u001b[0;34m\"Pithon\"\u001b[0m\u001b[0;34m\u001b[0m\u001b[0;34m\u001b[0m\u001b[0m\n\u001b[0;32m----> 2\u001b[0;31m \u001b[0ma\u001b[0m\u001b[0;34m[\u001b[0m\u001b[0;36m1\u001b[0m\u001b[0;34m]\u001b[0m \u001b[0;34m=\u001b[0m \u001b[0;34m'y'\u001b[0m\u001b[0;34m\u001b[0m\u001b[0;34m\u001b[0m\u001b[0m\n\u001b[0m\u001b[1;32m      3\u001b[0m \u001b[0mprint\u001b[0m\u001b[0;34m(\u001b[0m\u001b[0ma\u001b[0m\u001b[0;34m[\u001b[0m\u001b[0;36m1\u001b[0m\u001b[0;34m]\u001b[0m\u001b[0;34m)\u001b[0m\u001b[0;34m\u001b[0m\u001b[0;34m\u001b[0m\u001b[0m\n",
            "\u001b[0;31mTypeError\u001b[0m: 'str' object does not support item assignment"
          ]
        }
      ]
    },
    {
      "cell_type": "markdown",
      "source": [
        "당연히 오류가 발생한다. \n",
        "\n",
        "왜냐하면 문자열의 요솟값은 바꿀 수 있는 값이 아니기 때문이다.\n",
        "\n",
        "(문자열 자료형은 그 요솟값을 변경할 수 없다. 그래서 immutable한 자료형이라고도 부른다)"
      ],
      "metadata": {
        "id": "2UFdZhYdxxNY"
      }
    },
    {
      "cell_type": "code",
      "source": [
        "a = \"pithon\"\n",
        "print(a[:1])\n",
        "print(a[2:])\n",
        "print(a[:1] + 'y' + a[2:])\n"
      ],
      "metadata": {
        "colab": {
          "base_uri": "https://localhost:8080/"
        },
        "id": "jJzhq1Juxy52",
        "outputId": "ef250acb-585f-4508-80da-71459686c9e6"
      },
      "execution_count": null,
      "outputs": [
        {
          "output_type": "stream",
          "name": "stdout",
          "text": [
            "p\n",
            "thon\n",
            "python\n"
          ]
        }
      ]
    },
    {
      "cell_type": "markdown",
      "source": [
        "#문자열 포매팅"
      ],
      "metadata": {
        "id": "QX4vTsiEyQ0K"
      }
    },
    {
      "cell_type": "markdown",
      "source": [
        "**문자열 안의 특정한 값을 바꿔야 할 경우**가 있을 때 이것을 가능하게 해주는 것이 바로 문자열 포매팅 기법이다.\n",
        "\n",
        "쉽게 말해 문자열 포매팅이란 **문자열 안에 어떤 값을 삽입**하는 방법이다."
      ],
      "metadata": {
        "id": "GIdZNo8vyffr"
      }
    },
    {
      "cell_type": "markdown",
      "source": [
        "## 문자열 포매팅 따라하기\n",
        "**1. 숫자 바로 대입**"
      ],
      "metadata": {
        "id": "dEx9l-1Ly2gV"
      }
    },
    {
      "cell_type": "code",
      "source": [
        "\"I eat %d apples.\" % 3"
      ],
      "metadata": {
        "colab": {
          "base_uri": "https://localhost:8080/",
          "height": 35
        },
        "id": "Fi9epcBzy8pc",
        "outputId": "6cf37d27-645d-4b53-e9ad-47dc1c9e6e8b"
      },
      "execution_count": null,
      "outputs": [
        {
          "output_type": "execute_result",
          "data": {
            "text/plain": [
              "'I eat 3 apples.'"
            ],
            "application/vnd.google.colaboratory.intrinsic+json": {
              "type": "string"
            }
          },
          "metadata": {},
          "execution_count": 44
        }
      ]
    },
    {
      "cell_type": "code",
      "source": [],
      "metadata": {
        "id": "iGrRkkGd0Qsg"
      },
      "execution_count": null,
      "outputs": []
    },
    {
      "cell_type": "markdown",
      "source": [
        "문자열 안에 정수 3을 삽입하는 방법\n",
        "\n",
        "문자열 안에서 숫자를 넣고 싶은 자리에 %d 문자를 넣어 주고, 삽입할 숫자 3은 가장 뒤에 있는 % 문자 다음에 써 넣었다. \n",
        "\n",
        "- %d는 문자열 포맷 코드\n",
        "\n"
      ],
      "metadata": {
        "id": "DcXEapZPzK-F"
      }
    },
    {
      "cell_type": "markdown",
      "source": [
        "**2. 문자열 바로 대입**"
      ],
      "metadata": {
        "id": "-G9TupWhzZAH"
      }
    },
    {
      "cell_type": "code",
      "source": [
        "\"I eat %s apples.\" % \"five\""
      ],
      "metadata": {
        "colab": {
          "base_uri": "https://localhost:8080/",
          "height": 35
        },
        "id": "2w7f7HhDzcpd",
        "outputId": "a2277aca-628e-4f84-eb3f-b7b707adccd0"
      },
      "execution_count": null,
      "outputs": [
        {
          "output_type": "execute_result",
          "data": {
            "text/plain": [
              "'I eat five apples.'"
            ],
            "application/vnd.google.colaboratory.intrinsic+json": {
              "type": "string"
            }
          },
          "metadata": {},
          "execution_count": 45
        }
      ]
    },
    {
      "cell_type": "markdown",
      "source": [
        "문자열 안에 또 다른 문자열을 삽입\n",
        "\n",
        "- 숫자를 넣기 위해서는 %d를 써야 하고, 문자열을 넣기 위해서는 %s를 써야 한다"
      ],
      "metadata": {
        "id": "XgDArhpNzkmX"
      }
    },
    {
      "cell_type": "markdown",
      "source": [
        "**3. 숫자 값을 나타내는 변수로 대입**"
      ],
      "metadata": {
        "id": "GQJnZZszzxdG"
      }
    },
    {
      "cell_type": "code",
      "source": [
        "number = 3\n",
        "\"I eat %d apples.\" % number"
      ],
      "metadata": {
        "colab": {
          "base_uri": "https://localhost:8080/",
          "height": 35
        },
        "id": "4kssfhzhz8HD",
        "outputId": "5bb60242-7c79-4418-b6c3-f0a1e7b6ae03"
      },
      "execution_count": null,
      "outputs": [
        {
          "output_type": "execute_result",
          "data": {
            "text/plain": [
              "'I eat 3 apples.'"
            ],
            "application/vnd.google.colaboratory.intrinsic+json": {
              "type": "string"
            }
          },
          "metadata": {},
          "execution_count": 49
        }
      ]
    },
    {
      "cell_type": "markdown",
      "source": [
        "**4. 2개 이상의 값 넣기**"
      ],
      "metadata": {
        "id": "alL0abWR0GP5"
      }
    },
    {
      "cell_type": "code",
      "source": [
        "number = 10\n",
        "day = \"three\"\n",
        "\"I ate %d apples. so I was sick for %s days.\" %(number, day)"
      ],
      "metadata": {
        "colab": {
          "base_uri": "https://localhost:8080/",
          "height": 35
        },
        "id": "vDkEAB8kz0VB",
        "outputId": "2045f1fc-ef0a-493d-a6ca-854f8a5e626e"
      },
      "execution_count": null,
      "outputs": [
        {
          "output_type": "execute_result",
          "data": {
            "text/plain": [
              "'I ate 10 apples. so I was sick for three days.'"
            ],
            "application/vnd.google.colaboratory.intrinsic+json": {
              "type": "string"
            }
          },
          "metadata": {},
          "execution_count": 47
        }
      ]
    },
    {
      "cell_type": "markdown",
      "source": [
        " 2개 이상의 값을 넣으려면 마지막 % 다음 괄호 안에 콤마(,)로 구분하여 각각의 값을 넣어 주면 된다."
      ],
      "metadata": {
        "id": "71l4NyP8091u"
      }
    },
    {
      "cell_type": "markdown",
      "source": [
        "## 문자열 포맷 코드"
      ],
      "metadata": {
        "id": "jeuFALQL1AAi"
      }
    },
    {
      "cell_type": "markdown",
      "source": [
        "\n",
        "\n",
        "- %s : 문자열(String)\n",
        "- %c : 문자열 1개(character)\n",
        "- %d : 정수(integer)\n",
        "- %f : 부동소수(floating-point)\n",
        "- %o : 8진수\n",
        "- %x : 16진수\n",
        "- %% : Literal%(문자 % 자체)\n",
        "\n",
        "\n",
        "\n"
      ],
      "metadata": {
        "id": "k1Hd4OtZ1Dom"
      }
    },
    {
      "cell_type": "code",
      "source": [
        "\"I have %s apples\" % 3"
      ],
      "metadata": {
        "colab": {
          "base_uri": "https://localhost:8080/",
          "height": 35
        },
        "id": "Ub4hC-sB15RR",
        "outputId": "173dcc71-7631-4759-e188-fb65cc9a2a93"
      },
      "execution_count": null,
      "outputs": [
        {
          "output_type": "execute_result",
          "data": {
            "text/plain": [
              "'I have 3 apples'"
            ],
            "application/vnd.google.colaboratory.intrinsic+json": {
              "type": "string"
            }
          },
          "metadata": {},
          "execution_count": 58
        }
      ]
    },
    {
      "cell_type": "code",
      "source": [
        "\"rate is %s\" % 3.234"
      ],
      "metadata": {
        "colab": {
          "base_uri": "https://localhost:8080/",
          "height": 35
        },
        "id": "N1_zWl722DOR",
        "outputId": "dc73f8a0-5c7b-4543-a0fb-5d751e00c135"
      },
      "execution_count": null,
      "outputs": [
        {
          "output_type": "execute_result",
          "data": {
            "text/plain": [
              "'rate is 3.234'"
            ],
            "application/vnd.google.colaboratory.intrinsic+json": {
              "type": "string"
            }
          },
          "metadata": {},
          "execution_count": 51
        }
      ]
    },
    {
      "cell_type": "markdown",
      "source": [
        "** %s는 자동으로 % 뒤에 있는 값을 문자열로 바꾼다**"
      ],
      "metadata": {
        "id": "YAhPUbhh2JM-"
      }
    },
    {
      "cell_type": "markdown",
      "source": [
        "## 포매팅 연산자 %d와 %를 같이 쓸 때는 %%를 쓴다"
      ],
      "metadata": {
        "id": "VHZxOCec2Q4M"
      }
    },
    {
      "cell_type": "code",
      "source": [
        "\"Error is %d%.\" % 98"
      ],
      "metadata": {
        "colab": {
          "base_uri": "https://localhost:8080/",
          "height": 174
        },
        "id": "dFKaU-yI2a3s",
        "outputId": "603865e3-5dea-4efb-990f-e2d86743506f"
      },
      "execution_count": null,
      "outputs": [
        {
          "output_type": "error",
          "ename": "ValueError",
          "evalue": "ignored",
          "traceback": [
            "\u001b[0;31m---------------------------------------------------------------------------\u001b[0m",
            "\u001b[0;31mValueError\u001b[0m                                Traceback (most recent call last)",
            "\u001b[0;32m<ipython-input-52-061de263c4b7>\u001b[0m in \u001b[0;36m<module>\u001b[0;34m\u001b[0m\n\u001b[0;32m----> 1\u001b[0;31m \u001b[0;34m\"Error is %d%.\"\u001b[0m \u001b[0;34m%\u001b[0m \u001b[0;36m98\u001b[0m\u001b[0;34m\u001b[0m\u001b[0;34m\u001b[0m\u001b[0m\n\u001b[0m",
            "\u001b[0;31mValueError\u001b[0m: incomplete format"
          ]
        }
      ]
    },
    {
      "cell_type": "markdown",
      "source": [
        "**오류발생**\n",
        "\n",
        "\n",
        "문자열 포맷 코드인 %d와 %가 같은 문자열 안에 존재하는 경우,\n",
        "\n",
        " %를 나타내려면 반드시 %%로 써야 하는 법칙이 있기 때문이다. \n",
        "\n",
        " 하지만 문자열 안에 %d 같은 포매팅 연산자가 없으면 %는 홀로 쓰여도 상관이 없다.\n"
      ],
      "metadata": {
        "id": "t64fFw2L2o6E"
      }
    },
    {
      "cell_type": "code",
      "source": [
        "\"Error is %d%%\" %98"
      ],
      "metadata": {
        "colab": {
          "base_uri": "https://localhost:8080/",
          "height": 35
        },
        "id": "MgGNix3g2yq_",
        "outputId": "31acfe9e-61c8-4453-ad0b-e1f8e4272929"
      },
      "execution_count": null,
      "outputs": [
        {
          "output_type": "execute_result",
          "data": {
            "text/plain": [
              "'Error is 98%'"
            ],
            "application/vnd.google.colaboratory.intrinsic+json": {
              "type": "string"
            }
          },
          "metadata": {},
          "execution_count": 53
        }
      ]
    },
    {
      "cell_type": "markdown",
      "source": [
        "## 포맷 코드와 숫자 함께 사용하기\n",
        "**1. 정렬과 공백**"
      ],
      "metadata": {
        "id": "5Z0qD-R-26Y3"
      }
    },
    {
      "cell_type": "code",
      "source": [
        "\"%10s\" % \"h1\""
      ],
      "metadata": {
        "colab": {
          "base_uri": "https://localhost:8080/",
          "height": 35
        },
        "id": "0Wh3Cqym3Dm3",
        "outputId": "97def241-f74f-4c15-d93b-0c3c16c0cab6"
      },
      "execution_count": null,
      "outputs": [
        {
          "output_type": "execute_result",
          "data": {
            "text/plain": [
              "'        h1'"
            ],
            "application/vnd.google.colaboratory.intrinsic+json": {
              "type": "string"
            }
          },
          "metadata": {},
          "execution_count": 54
        }
      ]
    },
    {
      "cell_type": "markdown",
      "source": [
        " %10s는 **전체 길이가 10개인 문자열 공간에서** 대입되는 값을 **오른쪽으로 정렬**하고 그 **앞의 나머지는 공백**으로 남겨 두라는 의미"
      ],
      "metadata": {
        "id": "5RugaYGg3hpV"
      }
    },
    {
      "cell_type": "code",
      "source": [
        "\"%-10sjane.\" % 'hi'"
      ],
      "metadata": {
        "colab": {
          "base_uri": "https://localhost:8080/",
          "height": 35
        },
        "id": "-ZA0bapS3ivF",
        "outputId": "feca4935-baaa-4f38-9428-9db0d5ea2c0a"
      },
      "execution_count": null,
      "outputs": [
        {
          "output_type": "execute_result",
          "data": {
            "text/plain": [
              "'hi        jane.'"
            ],
            "application/vnd.google.colaboratory.intrinsic+json": {
              "type": "string"
            }
          },
          "metadata": {},
          "execution_count": 55
        }
      ]
    },
    {
      "cell_type": "markdown",
      "source": [
        " 왼쪽 정렬은 %**-**10s"
      ],
      "metadata": {
        "id": "nM0sv16K3t1o"
      }
    },
    {
      "cell_type": "markdown",
      "source": [
        "**2. 소수점 표현하기**"
      ],
      "metadata": {
        "id": "6UFqXXm934Of"
      }
    },
    {
      "cell_type": "code",
      "source": [
        "\"%0.4f\" %3.42134234"
      ],
      "metadata": {
        "colab": {
          "base_uri": "https://localhost:8080/",
          "height": 35
        },
        "id": "PTrtrY_n37yi",
        "outputId": "a84dd353-e63f-4d1f-deb7-ce6fd83ae929"
      },
      "execution_count": null,
      "outputs": [
        {
          "output_type": "execute_result",
          "data": {
            "text/plain": [
              "'3.4213'"
            ],
            "application/vnd.google.colaboratory.intrinsic+json": {
              "type": "string"
            }
          },
          "metadata": {},
          "execution_count": 56
        }
      ]
    },
    {
      "cell_type": "markdown",
      "source": [
        "소수점 네 번째 자리까지만 나타내고 싶은 경우에는 위와 같이 사용\n",
        "\n",
        " '.'의 의미는 소수점 포인트를 말하고 그 뒤의 숫자 4는 소수점 뒤에 나올 숫자의 개수를 말한다."
      ],
      "metadata": {
        "id": "qwgn2HOb4Hi9"
      }
    },
    {
      "cell_type": "code",
      "source": [
        "\"%10.4f\" %3.42134234"
      ],
      "metadata": {
        "colab": {
          "base_uri": "https://localhost:8080/",
          "height": 35
        },
        "id": "sQJ5-AtS4L2b",
        "outputId": "0a708838-6454-42e6-ba36-07256804824a"
      },
      "execution_count": null,
      "outputs": [
        {
          "output_type": "execute_result",
          "data": {
            "text/plain": [
              "'    3.4213'"
            ],
            "application/vnd.google.colaboratory.intrinsic+json": {
              "type": "string"
            }
          },
          "metadata": {},
          "execution_count": 57
        }
      ]
    },
    {
      "cell_type": "markdown",
      "source": [
        "소수점 네 번째 자리까지만 표시하고 전체 길이가 10개인 문자열 공간에서 오른쪽으로 정렬"
      ],
      "metadata": {
        "id": "QN5HFY3V4YBj"
      }
    },
    {
      "cell_type": "markdown",
      "source": [
        "## format 함수를 사용한 포매팅"
      ],
      "metadata": {
        "id": "Oeen6FtW4omQ"
      }
    },
    {
      "cell_type": "markdown",
      "source": [
        "**숫자 바로 대입하기**"
      ],
      "metadata": {
        "id": "TYZ420644qrt"
      }
    },
    {
      "cell_type": "code",
      "source": [
        "\"I eat {0} apples\".format(3)"
      ],
      "metadata": {
        "colab": {
          "base_uri": "https://localhost:8080/",
          "height": 35
        },
        "id": "WmH_D0_m5AB8",
        "outputId": "8f0595ab-e841-4d3b-8785-3bf4ae4e845b"
      },
      "execution_count": null,
      "outputs": [
        {
          "output_type": "execute_result",
          "data": {
            "text/plain": [
              "'I eat 3 apples'"
            ],
            "application/vnd.google.colaboratory.intrinsic+json": {
              "type": "string"
            }
          },
          "metadata": {},
          "execution_count": 59
        }
      ]
    },
    {
      "cell_type": "markdown",
      "source": [
        " {0} 부분이 숫자 3으로 바뀌었다."
      ],
      "metadata": {
        "id": "WvzPHunT5Hmv"
      }
    },
    {
      "cell_type": "markdown",
      "source": [
        "**문자열 바로 대입하기**"
      ],
      "metadata": {
        "id": "5nRkmTPi5K_a"
      }
    },
    {
      "cell_type": "code",
      "source": [
        "\"I eat {0} apples\".format(\"five\")"
      ],
      "metadata": {
        "colab": {
          "base_uri": "https://localhost:8080/",
          "height": 35
        },
        "id": "USku66Ii5Ors",
        "outputId": "a48c0234-2b70-48f2-ec2e-1498ec3d490c"
      },
      "execution_count": null,
      "outputs": [
        {
          "output_type": "execute_result",
          "data": {
            "text/plain": [
              "'I eat five apples'"
            ],
            "application/vnd.google.colaboratory.intrinsic+json": {
              "type": "string"
            }
          },
          "metadata": {},
          "execution_count": 60
        }
      ]
    },
    {
      "cell_type": "markdown",
      "source": [
        "**숫자 값을 가진 변수로 대입하기**"
      ],
      "metadata": {
        "id": "maxx_M3o5a0w"
      }
    },
    {
      "cell_type": "code",
      "source": [
        "number = 3\n",
        "\"I eat {0} apples\".format(number)"
      ],
      "metadata": {
        "colab": {
          "base_uri": "https://localhost:8080/",
          "height": 35
        },
        "id": "nXBg1lZq5d6g",
        "outputId": "4f218ac6-0395-409d-e4ea-bd877e555e77"
      },
      "execution_count": null,
      "outputs": [
        {
          "output_type": "execute_result",
          "data": {
            "text/plain": [
              "'I eat 3 apples'"
            ],
            "application/vnd.google.colaboratory.intrinsic+json": {
              "type": "string"
            }
          },
          "metadata": {},
          "execution_count": 61
        }
      ]
    },
    {
      "cell_type": "markdown",
      "source": [
        "**2개 이상의 값 넣기**"
      ],
      "metadata": {
        "id": "mvjbVr0a5ssk"
      }
    },
    {
      "cell_type": "code",
      "source": [
        "number = 10\n",
        "day = \"three\"\n",
        "\"I ate {0} apples. so I was sick for {1} days.\".format(number,day)"
      ],
      "metadata": {
        "colab": {
          "base_uri": "https://localhost:8080/",
          "height": 35
        },
        "id": "oaQ_9vKD5va2",
        "outputId": "c192ab03-459a-468b-a1ab-b0a38bdd4db2"
      },
      "execution_count": null,
      "outputs": [
        {
          "output_type": "execute_result",
          "data": {
            "text/plain": [
              "'I ate 10 apples. so I was sick for three days.'"
            ],
            "application/vnd.google.colaboratory.intrinsic+json": {
              "type": "string"
            }
          },
          "metadata": {},
          "execution_count": 62
        }
      ]
    },
    {
      "cell_type": "markdown",
      "source": [
        "2개 이상의 값을 넣을 경우\n",
        "\n",
        " 문자열의 {0}, {1}과 같은 인덱스 항목이 format 함수의 입력값으로 순서에 맞게 바뀐다. "
      ],
      "metadata": {
        "id": "ZBDACSyn6CfN"
      }
    },
    {
      "cell_type": "markdown",
      "source": [
        "**이름으로 넣기**"
      ],
      "metadata": {
        "id": "uYoo86-X6EQy"
      }
    },
    {
      "cell_type": "code",
      "source": [
        "\"I ate {number} apples. so I was sick for {day} days.\".format(number = 10, day = 3)"
      ],
      "metadata": {
        "colab": {
          "base_uri": "https://localhost:8080/",
          "height": 35
        },
        "id": "izhkXwgf6IvQ",
        "outputId": "5b9185a6-6a15-4396-cbb2-0233eda48fd8"
      },
      "execution_count": null,
      "outputs": [
        {
          "output_type": "execute_result",
          "data": {
            "text/plain": [
              "'I ate 10 apples. so I was sick for 3 days.'"
            ],
            "application/vnd.google.colaboratory.intrinsic+json": {
              "type": "string"
            }
          },
          "metadata": {},
          "execution_count": 63
        }
      ]
    },
    {
      "cell_type": "markdown",
      "source": [
        "format 함수에는 반드시 name=value 와 같은 형태의 입력값이 있어야만 한다."
      ],
      "metadata": {
        "id": "ZYE_Nu_E6bWB"
      }
    },
    {
      "cell_type": "markdown",
      "source": [
        "**인덱스와 이름을 혼용해서 넣기**"
      ],
      "metadata": {
        "id": "Kv1OWi156czd"
      }
    },
    {
      "cell_type": "code",
      "source": [
        "\"I ate {0} apples. so I was sick for {day} days.\".format(10, day = 3)"
      ],
      "metadata": {
        "colab": {
          "base_uri": "https://localhost:8080/",
          "height": 35
        },
        "id": "nCdRPLB76gY-",
        "outputId": "5a5848c3-21d0-4e46-d1d0-00e2908bf33a"
      },
      "execution_count": null,
      "outputs": [
        {
          "output_type": "execute_result",
          "data": {
            "text/plain": [
              "'I ate 10 apples. so I was sick for 3 days.'"
            ],
            "application/vnd.google.colaboratory.intrinsic+json": {
              "type": "string"
            }
          },
          "metadata": {},
          "execution_count": 69
        }
      ]
    },
    {
      "cell_type": "markdown",
      "source": [
        "**왼쪽 정렬**"
      ],
      "metadata": {
        "id": "A8dg3ZUN66bR"
      }
    },
    {
      "cell_type": "code",
      "source": [
        "\"{0:<10}\".format(\"hi\")"
      ],
      "metadata": {
        "colab": {
          "base_uri": "https://localhost:8080/",
          "height": 35
        },
        "id": "BZXK4Gx869jA",
        "outputId": "95c1602d-356c-4757-b3e8-7b9b5e80dd64"
      },
      "execution_count": null,
      "outputs": [
        {
          "output_type": "execute_result",
          "data": {
            "text/plain": [
              "'hi        '"
            ],
            "application/vnd.google.colaboratory.intrinsic+json": {
              "type": "string"
            }
          },
          "metadata": {},
          "execution_count": 70
        }
      ]
    },
    {
      "cell_type": "markdown",
      "source": [
        ":<10 표현식을 사용하면 치환되는 문자열을 왼쪽으로 정렬하고 문자열의 총 자릿수를 10으로 맞출 수 있다."
      ],
      "metadata": {
        "id": "8I5nbJRp7TFh"
      }
    },
    {
      "cell_type": "markdown",
      "source": [
        "**오른쪽 정렬**"
      ],
      "metadata": {
        "id": "6IXIua4B69NI"
      }
    },
    {
      "cell_type": "code",
      "source": [
        "\"{0:>10}\".format(\"hi\")"
      ],
      "metadata": {
        "colab": {
          "base_uri": "https://localhost:8080/",
          "height": 35
        },
        "id": "FcUcc4zj7USH",
        "outputId": "69b94346-cf2b-46cc-8142-7a20eb520ef1"
      },
      "execution_count": null,
      "outputs": [
        {
          "output_type": "execute_result",
          "data": {
            "text/plain": [
              "'        hi'"
            ],
            "application/vnd.google.colaboratory.intrinsic+json": {
              "type": "string"
            }
          },
          "metadata": {},
          "execution_count": 72
        }
      ]
    },
    {
      "cell_type": "markdown",
      "source": [
        "**가운데 정렬**"
      ],
      "metadata": {
        "id": "osdNvUqO6_ls"
      }
    },
    {
      "cell_type": "code",
      "source": [
        "\"{0:^10}\".format(\"hi\")"
      ],
      "metadata": {
        "colab": {
          "base_uri": "https://localhost:8080/",
          "height": 35
        },
        "id": "_kvISiVb7hys",
        "outputId": "fd086d8b-25a2-4fad-f3eb-c98f12e8893f"
      },
      "execution_count": null,
      "outputs": [
        {
          "output_type": "execute_result",
          "data": {
            "text/plain": [
              "'    hi    '"
            ],
            "application/vnd.google.colaboratory.intrinsic+json": {
              "type": "string"
            }
          },
          "metadata": {},
          "execution_count": 75
        }
      ]
    },
    {
      "cell_type": "markdown",
      "source": [
        "**공백 채우기**"
      ],
      "metadata": {
        "id": "3AOq7Q_x7AjN"
      }
    },
    {
      "cell_type": "code",
      "source": [
        "\"{0:=^10}\".format(\"hi\")"
      ],
      "metadata": {
        "colab": {
          "base_uri": "https://localhost:8080/",
          "height": 35
        },
        "id": "PubimQJ47rnc",
        "outputId": "a349231e-5178-444a-ee6f-d64b260557ea"
      },
      "execution_count": null,
      "outputs": [
        {
          "output_type": "execute_result",
          "data": {
            "text/plain": [
              "'====hi===='"
            ],
            "application/vnd.google.colaboratory.intrinsic+json": {
              "type": "string"
            }
          },
          "metadata": {},
          "execution_count": 76
        }
      ]
    },
    {
      "cell_type": "code",
      "source": [
        "\"{0:!<10}\".format(\"hi\")"
      ],
      "metadata": {
        "colab": {
          "base_uri": "https://localhost:8080/",
          "height": 35
        },
        "id": "AE1Ch0g972bU",
        "outputId": "ac4b3898-ad46-4f4f-d4c4-8565693af7e8"
      },
      "execution_count": null,
      "outputs": [
        {
          "output_type": "execute_result",
          "data": {
            "text/plain": [
              "'hi!!!!!!!!'"
            ],
            "application/vnd.google.colaboratory.intrinsic+json": {
              "type": "string"
            }
          },
          "metadata": {},
          "execution_count": 78
        }
      ]
    },
    {
      "cell_type": "markdown",
      "source": [
        "채워 넣을 문자 값은** 정렬 문자 <, >, ^ 바로 앞**에 넣어야 한다. "
      ],
      "metadata": {
        "id": "IiF270787_GS"
      }
    },
    {
      "cell_type": "markdown",
      "source": [
        "**소수점 표현하기**"
      ],
      "metadata": {
        "id": "UCAU2Yew8BpW"
      }
    },
    {
      "cell_type": "code",
      "source": [
        "y = 3.42134234\n",
        "\"{0:0.4f}\".format(y)"
      ],
      "metadata": {
        "colab": {
          "base_uri": "https://localhost:8080/",
          "height": 35
        },
        "id": "IrzdbmQB8EsT",
        "outputId": "c2295d30-2715-4ce3-da93-9953a955fe0c"
      },
      "execution_count": null,
      "outputs": [
        {
          "output_type": "execute_result",
          "data": {
            "text/plain": [
              "'3.4213'"
            ],
            "application/vnd.google.colaboratory.intrinsic+json": {
              "type": "string"
            }
          },
          "metadata": {},
          "execution_count": 79
        }
      ]
    },
    {
      "cell_type": "code",
      "source": [
        "y = 3.42134234\n",
        "\"{0:10.4f}\".format(y)"
      ],
      "metadata": {
        "colab": {
          "base_uri": "https://localhost:8080/",
          "height": 35
        },
        "id": "hkeOwXIX8Uga",
        "outputId": "47234d86-0e97-470c-b3dd-fa321d0eb3c4"
      },
      "execution_count": null,
      "outputs": [
        {
          "output_type": "execute_result",
          "data": {
            "text/plain": [
              "'    3.4213'"
            ],
            "application/vnd.google.colaboratory.intrinsic+json": {
              "type": "string"
            }
          },
          "metadata": {},
          "execution_count": 83
        }
      ]
    },
    {
      "cell_type": "markdown",
      "source": [
        "자릿수를 10으로 맞출 수도 있다. "
      ],
      "metadata": {
        "id": "FSnQKzzf8tQ7"
      }
    },
    {
      "cell_type": "markdown",
      "source": [
        "**{ 또는 } 문자 표현하기**"
      ],
      "metadata": {
        "id": "JFwb5_eB8uXQ"
      }
    },
    {
      "cell_type": "code",
      "source": [
        "\"{{ and }}\".format()"
      ],
      "metadata": {
        "colab": {
          "base_uri": "https://localhost:8080/",
          "height": 35
        },
        "id": "Bhstdyrw865Y",
        "outputId": "9c42fbd5-5418-4da6-9461-1182ae775d21"
      },
      "execution_count": null,
      "outputs": [
        {
          "output_type": "execute_result",
          "data": {
            "text/plain": [
              "'{ and }'"
            ],
            "application/vnd.google.colaboratory.intrinsic+json": {
              "type": "string"
            }
          },
          "metadata": {},
          "execution_count": 84
        }
      ]
    },
    {
      "cell_type": "markdown",
      "source": [
        "{{ }}처럼 2개를 연속해서 사용하면 된다."
      ],
      "metadata": {
        "id": "sYUXxw9-9Ci4"
      }
    },
    {
      "cell_type": "markdown",
      "source": [
        "## f 문자열 포매팅\n",
        "파이썬 3.6 버전부터는 f 문자열 포매팅 기능을 사용할 수 있다."
      ],
      "metadata": {
        "id": "zVC5gn6D9DJ7"
      }
    },
    {
      "cell_type": "code",
      "source": [
        "name = '홍길동'\n",
        "age = 30\n",
        "f'나의 이름은 {name}입니다. 나이는 {age}입니다'"
      ],
      "metadata": {
        "colab": {
          "base_uri": "https://localhost:8080/",
          "height": 35
        },
        "id": "xIHn4eW_9Juq",
        "outputId": "60f367ad-82b7-4fdd-ae8c-69316d6ff389"
      },
      "execution_count": null,
      "outputs": [
        {
          "output_type": "execute_result",
          "data": {
            "text/plain": [
              "'나의 이름은 홍길동입니다. 나이는 30입니다'"
            ],
            "application/vnd.google.colaboratory.intrinsic+json": {
              "type": "string"
            }
          },
          "metadata": {},
          "execution_count": 86
        }
      ]
    },
    {
      "cell_type": "markdown",
      "source": [
        "문자열 앞에 f 접두사를 붙이면 f 문자열 포매팅 기능을 사용할 수 있다.\n"
      ],
      "metadata": {
        "id": "F_XiyeZS9a3l"
      }
    },
    {
      "cell_type": "markdown",
      "source": [
        "f 문자열 포매팅은 **표현식을 지원**하기 때문에 다음과 같은 것도 가능하다.\n",
        "\n",
        "\n",
        "> 표현식이란 문자열 안에서 변수와 +, -와 같은 **수식을 함께 사용하는 것**을 말한다.\n"
      ],
      "metadata": {
        "id": "yqGmdksk9oEb"
      }
    },
    {
      "cell_type": "code",
      "source": [
        "age = 30\n",
        "f\"나는 내년이면 {age+1}살이 된다.\""
      ],
      "metadata": {
        "colab": {
          "base_uri": "https://localhost:8080/",
          "height": 35
        },
        "id": "-bGFgKtM9o9q",
        "outputId": "2531a86e-07ac-493b-bddc-dbe925ca50e7"
      },
      "execution_count": null,
      "outputs": [
        {
          "output_type": "execute_result",
          "data": {
            "text/plain": [
              "'나는 내년이면 31살이 된다.'"
            ],
            "application/vnd.google.colaboratory.intrinsic+json": {
              "type": "string"
            }
          },
          "metadata": {},
          "execution_count": 87
        }
      ]
    },
    {
      "cell_type": "markdown",
      "source": [
        "딕셔너리는 f 문자열 포매팅에서 다음과 같이 사용할 수 있다.\n",
        "\n",
        "> 딕셔너리는 Key와 Value라는 것을 한 쌍으로 갖는 자료형이다.\n",
        "\n",
        "\n"
      ],
      "metadata": {
        "id": "HzClagPq9x5g"
      }
    },
    {
      "cell_type": "code",
      "source": [
        "d = {'name':'홍길동', 'age':30 } # 작음따옴표 큰따옴표 다됨\n",
        "f'나의 이름은 {d[\"name\"]}입니다. 나이는 {d[\"age\"]} 입니다.' # 큰따옴표만 됨"
      ],
      "metadata": {
        "colab": {
          "base_uri": "https://localhost:8080/",
          "height": 35
        },
        "id": "TmC8uyLf95hx",
        "outputId": "69d7b000-1daf-4a79-c788-26985e7a389b"
      },
      "execution_count": null,
      "outputs": [
        {
          "output_type": "execute_result",
          "data": {
            "text/plain": [
              "'나의 이름은 홍길동입니다. 나이는 30 입니다.'"
            ],
            "application/vnd.google.colaboratory.intrinsic+json": {
              "type": "string"
            }
          },
          "metadata": {},
          "execution_count": 93
        }
      ]
    },
    {
      "cell_type": "markdown",
      "source": [
        "정렬은 다음과 같이 할 수 있다."
      ],
      "metadata": {
        "id": "T55Y2Kb4_q3C"
      }
    },
    {
      "cell_type": "code",
      "source": [
        "f'{\"hi\":<10}'    # 왼쪽 정렬"
      ],
      "metadata": {
        "colab": {
          "base_uri": "https://localhost:8080/",
          "height": 35
        },
        "id": "T2qx77DK-8km",
        "outputId": "8eab48ca-6b39-4340-a5c2-68e7561c5eb1"
      },
      "execution_count": null,
      "outputs": [
        {
          "output_type": "execute_result",
          "data": {
            "text/plain": [
              "'hi        '"
            ],
            "application/vnd.google.colaboratory.intrinsic+json": {
              "type": "string"
            }
          },
          "metadata": {},
          "execution_count": 95
        }
      ]
    },
    {
      "cell_type": "code",
      "source": [
        "'{0:<10}'.format(\"hi\")"
      ],
      "metadata": {
        "colab": {
          "base_uri": "https://localhost:8080/",
          "height": 35
        },
        "id": "pUzJfjYE_R-6",
        "outputId": "9e436bca-c230-4212-89d0-74f61d03bbcc"
      },
      "execution_count": null,
      "outputs": [
        {
          "output_type": "execute_result",
          "data": {
            "text/plain": [
              "'hi        '"
            ],
            "application/vnd.google.colaboratory.intrinsic+json": {
              "type": "string"
            }
          },
          "metadata": {},
          "execution_count": 96
        }
      ]
    },
    {
      "cell_type": "code",
      "source": [
        "f'{\"hi\":>10}'    # 오른쪽 정렬"
      ],
      "metadata": {
        "colab": {
          "base_uri": "https://localhost:8080/",
          "height": 35
        },
        "id": "CFwR025Z_bd6",
        "outputId": "37becf03-04cc-44e1-f81b-005b2378ce23"
      },
      "execution_count": null,
      "outputs": [
        {
          "output_type": "execute_result",
          "data": {
            "text/plain": [
              "'        hi'"
            ],
            "application/vnd.google.colaboratory.intrinsic+json": {
              "type": "string"
            }
          },
          "metadata": {},
          "execution_count": 97
        }
      ]
    },
    {
      "cell_type": "code",
      "source": [
        "f'{\"hi\":^10}'    # 가운데 정렬"
      ],
      "metadata": {
        "colab": {
          "base_uri": "https://localhost:8080/",
          "height": 35
        },
        "id": "1ye3HYk9_ipE",
        "outputId": "8bbed781-f182-4657-e084-6f12233bade4"
      },
      "execution_count": null,
      "outputs": [
        {
          "output_type": "execute_result",
          "data": {
            "text/plain": [
              "'    hi    '"
            ],
            "application/vnd.google.colaboratory.intrinsic+json": {
              "type": "string"
            }
          },
          "metadata": {},
          "execution_count": 98
        }
      ]
    },
    {
      "cell_type": "markdown",
      "source": [
        "공백 채우기는 다음과 같이 할 수 있다."
      ],
      "metadata": {
        "id": "y6zVA_Em_und"
      }
    },
    {
      "cell_type": "code",
      "source": [
        "f'{\"hi\":=^10}' # 가운데 정렬하고 '=' 문자로 공백 채우기"
      ],
      "metadata": {
        "colab": {
          "base_uri": "https://localhost:8080/",
          "height": 35
        },
        "id": "AgX05BA-_zOR",
        "outputId": "c7f47b24-892e-4e83-ba9b-fa209da9c6dd"
      },
      "execution_count": null,
      "outputs": [
        {
          "output_type": "execute_result",
          "data": {
            "text/plain": [
              "'====hi===='"
            ],
            "application/vnd.google.colaboratory.intrinsic+json": {
              "type": "string"
            }
          },
          "metadata": {},
          "execution_count": 100
        }
      ]
    },
    {
      "cell_type": "code",
      "source": [
        "f'{\"hi\":!<10}' # 왼쪽 정렬하고 '!' 문자로 공백 채우기"
      ],
      "metadata": {
        "colab": {
          "base_uri": "https://localhost:8080/",
          "height": 35
        },
        "id": "3gnKsyAI_-4R",
        "outputId": "cde5108a-9060-4f99-b804-729e2e565dbe"
      },
      "execution_count": null,
      "outputs": [
        {
          "output_type": "execute_result",
          "data": {
            "text/plain": [
              "'hi!!!!!!!!'"
            ],
            "application/vnd.google.colaboratory.intrinsic+json": {
              "type": "string"
            }
          },
          "metadata": {},
          "execution_count": 101
        }
      ]
    },
    {
      "cell_type": "markdown",
      "source": [
        "소수점은 다음과 같이 표현할 수 있다."
      ],
      "metadata": {
        "id": "SWpi9JNcALWQ"
      }
    },
    {
      "cell_type": "code",
      "source": [
        "y = 3.42134234\n",
        "f'{y:0.4f}'    # 소수점 4자리까지만 표현"
      ],
      "metadata": {
        "colab": {
          "base_uri": "https://localhost:8080/",
          "height": 35
        },
        "id": "uD-jb1ifAPoF",
        "outputId": "fd2f35c6-f03b-4a0d-8891-c616e6c7d35f"
      },
      "execution_count": null,
      "outputs": [
        {
          "output_type": "execute_result",
          "data": {
            "text/plain": [
              "'3.4213'"
            ],
            "application/vnd.google.colaboratory.intrinsic+json": {
              "type": "string"
            }
          },
          "metadata": {},
          "execution_count": 102
        }
      ]
    },
    {
      "cell_type": "code",
      "source": [
        "y = 3.42134234\n",
        "f'{y:10.4f}'    # 소수점 4자리까지 표현하고 총 자리수 10으로 맞춤"
      ],
      "metadata": {
        "colab": {
          "base_uri": "https://localhost:8080/",
          "height": 35
        },
        "id": "_Bt0W_fWAfVM",
        "outputId": "90904684-e177-408c-af7d-e9c56cb6e122"
      },
      "execution_count": null,
      "outputs": [
        {
          "output_type": "execute_result",
          "data": {
            "text/plain": [
              "'    3.4213'"
            ],
            "application/vnd.google.colaboratory.intrinsic+json": {
              "type": "string"
            }
          },
          "metadata": {},
          "execution_count": 103
        }
      ]
    },
    {
      "cell_type": "markdown",
      "source": [
        "f 문자열에서 { } 문자를 표시하려면 다음과 같이 두 개를 동시에 사용해야 한다."
      ],
      "metadata": {
        "id": "2ITpwhaxA3Qa"
      }
    },
    {
      "cell_type": "code",
      "source": [
        "f'{{ and }}'"
      ],
      "metadata": {
        "colab": {
          "base_uri": "https://localhost:8080/",
          "height": 35
        },
        "id": "hMFJ3x6yA5Hj",
        "outputId": "3911c93e-9fff-4f6a-9d72-56b6db088a80"
      },
      "execution_count": null,
      "outputs": [
        {
          "output_type": "execute_result",
          "data": {
            "text/plain": [
              "'{ and }'"
            ],
            "application/vnd.google.colaboratory.intrinsic+json": {
              "type": "string"
            }
          },
          "metadata": {},
          "execution_count": 105
        }
      ]
    },
    {
      "cell_type": "markdown",
      "source": [
        "#문자열 관련 함수들"
      ],
      "metadata": {
        "id": "JazNaRBSBFaE"
      }
    },
    {
      "cell_type": "markdown",
      "source": [
        "문자열 자료형은 자체적으로 함수를 가지고 있다. \n",
        "\n",
        "이들 함수를 다른 말로 문자열 내장 함수라 한다. \n",
        "\n",
        "이 내장 함수를 사용하려면 문자열 변수 이름 뒤에 ‘.’를 붙인 다음에 함수 이름을 써주면 된다"
      ],
      "metadata": {
        "id": "1Tvy3CsGBI2l"
      }
    },
    {
      "cell_type": "markdown",
      "source": [
        "##문자 개수 세기\n"
      ],
      "metadata": {
        "id": "-pSPZbpsBR6x"
      }
    },
    {
      "cell_type": "code",
      "source": [
        "a = \"hobby\"\n",
        "a.count('b')"
      ],
      "metadata": {
        "colab": {
          "base_uri": "https://localhost:8080/"
        },
        "id": "EcWfeB8rBVyJ",
        "outputId": "3c4131a9-c9b6-4d66-dbae-fb338d913623"
      },
      "execution_count": null,
      "outputs": [
        {
          "output_type": "execute_result",
          "data": {
            "text/plain": [
              "2"
            ]
          },
          "metadata": {},
          "execution_count": 107
        }
      ]
    },
    {
      "cell_type": "markdown",
      "source": [
        "##위치 알려주기1(find)"
      ],
      "metadata": {
        "id": "SZGxbC70BdRh"
      }
    },
    {
      "cell_type": "code",
      "source": [
        "a = \"Python is the best choice\"\n",
        "a.find('b')"
      ],
      "metadata": {
        "colab": {
          "base_uri": "https://localhost:8080/"
        },
        "id": "4bGBODCwBgRZ",
        "outputId": "add69e67-b130-4a04-c0b5-22dbfc14a1d8"
      },
      "execution_count": null,
      "outputs": [
        {
          "output_type": "execute_result",
          "data": {
            "text/plain": [
              "14"
            ]
          },
          "metadata": {},
          "execution_count": 108
        }
      ]
    },
    {
      "cell_type": "code",
      "source": [
        "a = \"Python is the best choice\"\n",
        "a.find('k')"
      ],
      "metadata": {
        "colab": {
          "base_uri": "https://localhost:8080/"
        },
        "id": "uZD1iTwSBrHv",
        "outputId": "a73b757c-e4c1-4c1d-abe4-b5923e2efacc"
      },
      "execution_count": null,
      "outputs": [
        {
          "output_type": "execute_result",
          "data": {
            "text/plain": [
              "-1"
            ]
          },
          "metadata": {},
          "execution_count": 109
        }
      ]
    },
    {
      "cell_type": "markdown",
      "source": [
        "문자열 중 문자 b가 처음으로 나온 위치를 반환한다.\n",
        "\n",
        "만약 찾는 문자나 문자열이 **존재하지 않는다면 -1을 반환**한다.\n",
        "\n",
        "\n",
        ">파이썬은 숫자를 0부터 세기 때문에 b의 위치는 15가 아닌 14가 된다.\n",
        "\n"
      ],
      "metadata": {
        "id": "fbYBDP1sBxdn"
      }
    },
    {
      "cell_type": "markdown",
      "source": [
        "##위치 알려주기2(index)"
      ],
      "metadata": {
        "id": "rdxhrEgOB2iL"
      }
    },
    {
      "cell_type": "code",
      "source": [
        "a = \"Life is too short\"\n",
        "a.index('t')"
      ],
      "metadata": {
        "colab": {
          "base_uri": "https://localhost:8080/"
        },
        "id": "hdvZ6IYCB4t5",
        "outputId": "137448dc-e88a-44ae-f3fe-212e66b775cd"
      },
      "execution_count": null,
      "outputs": [
        {
          "output_type": "execute_result",
          "data": {
            "text/plain": [
              "8"
            ]
          },
          "metadata": {},
          "execution_count": 110
        }
      ]
    },
    {
      "cell_type": "code",
      "source": [
        "a = \"Life is too short\"\n",
        "a.index('k')"
      ],
      "metadata": {
        "colab": {
          "base_uri": "https://localhost:8080/",
          "height": 193
        },
        "id": "o7UKSJ9TCCYn",
        "outputId": "e14d0356-a208-4e3f-8459-391ecf7016c3"
      },
      "execution_count": null,
      "outputs": [
        {
          "output_type": "error",
          "ename": "ValueError",
          "evalue": "ignored",
          "traceback": [
            "\u001b[0;31m---------------------------------------------------------------------------\u001b[0m",
            "\u001b[0;31mValueError\u001b[0m                                Traceback (most recent call last)",
            "\u001b[0;32m<ipython-input-111-736077fffa10>\u001b[0m in \u001b[0;36m<module>\u001b[0;34m\u001b[0m\n\u001b[1;32m      1\u001b[0m \u001b[0ma\u001b[0m \u001b[0;34m=\u001b[0m \u001b[0;34m\"Life is too short\"\u001b[0m\u001b[0;34m\u001b[0m\u001b[0;34m\u001b[0m\u001b[0m\n\u001b[0;32m----> 2\u001b[0;31m \u001b[0ma\u001b[0m\u001b[0;34m.\u001b[0m\u001b[0mindex\u001b[0m\u001b[0;34m(\u001b[0m\u001b[0;34m'k'\u001b[0m\u001b[0;34m)\u001b[0m\u001b[0;34m\u001b[0m\u001b[0;34m\u001b[0m\u001b[0m\n\u001b[0m",
            "\u001b[0;31mValueError\u001b[0m: substring not found"
          ]
        }
      ]
    },
    {
      "cell_type": "markdown",
      "source": [
        "문자열 중 문자 t가 맨 처음으로 나온 위치를 반환한다. \n",
        "\n",
        "만약 찾는 문자나 문자열이 **존재하지 않는다면 오류를 발생**시킨다. "
      ],
      "metadata": {
        "id": "hV0UgkTHCIrH"
      }
    },
    {
      "cell_type": "markdown",
      "source": [
        "##문자열 삽입(join)"
      ],
      "metadata": {
        "id": "SFdFcWpUCLgF"
      }
    },
    {
      "cell_type": "code",
      "source": [
        "\",\".join('abcd')"
      ],
      "metadata": {
        "colab": {
          "base_uri": "https://localhost:8080/",
          "height": 35
        },
        "id": "oujrv_iBCODh",
        "outputId": "e318c087-baf2-41ef-a607-5b2d56b467ec"
      },
      "execution_count": null,
      "outputs": [
        {
          "output_type": "execute_result",
          "data": {
            "text/plain": [
              "'a,b,c,d'"
            ],
            "application/vnd.google.colaboratory.intrinsic+json": {
              "type": "string"
            }
          },
          "metadata": {},
          "execution_count": 113
        }
      ]
    },
    {
      "cell_type": "markdown",
      "source": [
        "abcd 문자열의 **각각의 문자 사이에** ','를 삽입한다."
      ],
      "metadata": {
        "id": "wYwB1MQnCYTp"
      }
    },
    {
      "cell_type": "markdown",
      "source": [
        "리스트나 튜플도 입력으로 사용할 수 있다\n",
        "\n",
        "join 함수의 입력으로 리스트를 사용하는 예는 다음과 같다."
      ],
      "metadata": {
        "id": "6xR0rp8nCpx6"
      }
    },
    {
      "cell_type": "code",
      "source": [
        "\",\".join(['a','b','c','d'])"
      ],
      "metadata": {
        "colab": {
          "base_uri": "https://localhost:8080/",
          "height": 35
        },
        "id": "slbl52NmCtAc",
        "outputId": "1095a3b1-ae94-4a0c-c994-1acba8b42993"
      },
      "execution_count": null,
      "outputs": [
        {
          "output_type": "execute_result",
          "data": {
            "text/plain": [
              "'a,b,c,d'"
            ],
            "application/vnd.google.colaboratory.intrinsic+json": {
              "type": "string"
            }
          },
          "metadata": {},
          "execution_count": 114
        }
      ]
    },
    {
      "cell_type": "markdown",
      "source": [
        "##소문자를 대문자로 바꾸기(upper)"
      ],
      "metadata": {
        "id": "zIit6O0-C1pR"
      }
    },
    {
      "cell_type": "code",
      "source": [
        "a = \"hi\"\n",
        "a.upper()"
      ],
      "metadata": {
        "colab": {
          "base_uri": "https://localhost:8080/",
          "height": 35
        },
        "id": "3kCsABdRC35V",
        "outputId": "11a62e70-dde9-499a-d0cf-5d4bd75fe950"
      },
      "execution_count": null,
      "outputs": [
        {
          "output_type": "execute_result",
          "data": {
            "text/plain": [
              "'HI'"
            ],
            "application/vnd.google.colaboratory.intrinsic+json": {
              "type": "string"
            }
          },
          "metadata": {},
          "execution_count": 115
        }
      ]
    },
    {
      "cell_type": "markdown",
      "source": [
        "##대문자를 소문자로 바꾸기(lower)"
      ],
      "metadata": {
        "id": "oN-B0NUNC8Li"
      }
    },
    {
      "cell_type": "code",
      "source": [
        "a = \"HI\"\n",
        "a.lower()"
      ],
      "metadata": {
        "colab": {
          "base_uri": "https://localhost:8080/",
          "height": 35
        },
        "id": "m0LWJaZUC_CW",
        "outputId": "807b22f6-cade-48b8-d618-1bd45260c502"
      },
      "execution_count": null,
      "outputs": [
        {
          "output_type": "execute_result",
          "data": {
            "text/plain": [
              "'hi'"
            ],
            "application/vnd.google.colaboratory.intrinsic+json": {
              "type": "string"
            }
          },
          "metadata": {},
          "execution_count": 116
        }
      ]
    },
    {
      "cell_type": "markdown",
      "source": [
        "##왼쪽 공백 지우기(lstrip)"
      ],
      "metadata": {
        "id": "Fcd1B0teDSk_"
      }
    },
    {
      "cell_type": "code",
      "source": [
        "a = \" hi \"\n",
        "a.lstrip()"
      ],
      "metadata": {
        "colab": {
          "base_uri": "https://localhost:8080/",
          "height": 35
        },
        "id": "fsdcnTHaDW0P",
        "outputId": "15f28e74-507a-4604-bfe4-00e1f25d46b8"
      },
      "execution_count": null,
      "outputs": [
        {
          "output_type": "execute_result",
          "data": {
            "text/plain": [
              "'hi '"
            ],
            "application/vnd.google.colaboratory.intrinsic+json": {
              "type": "string"
            }
          },
          "metadata": {},
          "execution_count": 118
        }
      ]
    },
    {
      "cell_type": "markdown",
      "source": [
        "##오른쪽 공백 지우기(rstrip)"
      ],
      "metadata": {
        "id": "mH1vpT-_DFdY"
      }
    },
    {
      "cell_type": "code",
      "source": [
        "a = \" hi \"\n",
        "a.rstrip()"
      ],
      "metadata": {
        "colab": {
          "base_uri": "https://localhost:8080/",
          "height": 35
        },
        "id": "mHCaJli4DH4g",
        "outputId": "e08252fd-0e5e-4430-8811-e18fbdf5cf55"
      },
      "execution_count": null,
      "outputs": [
        {
          "output_type": "execute_result",
          "data": {
            "text/plain": [
              "' hi'"
            ],
            "application/vnd.google.colaboratory.intrinsic+json": {
              "type": "string"
            }
          },
          "metadata": {},
          "execution_count": 117
        }
      ]
    },
    {
      "cell_type": "markdown",
      "source": [
        "##양쪽 공백 지우기(strip)"
      ],
      "metadata": {
        "id": "M5p4yPa-DajB"
      }
    },
    {
      "cell_type": "code",
      "source": [
        "a = \" hi \"\n",
        "a.strip()"
      ],
      "metadata": {
        "colab": {
          "base_uri": "https://localhost:8080/",
          "height": 35
        },
        "id": "-_3jX4xaDdzG",
        "outputId": "e58613a0-fb2c-43c6-f49e-e722b8136622"
      },
      "execution_count": null,
      "outputs": [
        {
          "output_type": "execute_result",
          "data": {
            "text/plain": [
              "'hi'"
            ],
            "application/vnd.google.colaboratory.intrinsic+json": {
              "type": "string"
            }
          },
          "metadata": {},
          "execution_count": 119
        }
      ]
    },
    {
      "cell_type": "markdown",
      "source": [
        "##문자열 바꾸기(replace)"
      ],
      "metadata": {
        "id": "OYTLKPxfDkDT"
      }
    },
    {
      "cell_type": "code",
      "source": [
        "a = \" Life is too short\"\n",
        "a.replace(\"Life\", \"your leg\")"
      ],
      "metadata": {
        "colab": {
          "base_uri": "https://localhost:8080/",
          "height": 35
        },
        "id": "V_ZeNpJpDnNs",
        "outputId": "bd90a8e6-39e7-46e6-8877-950a44930aed"
      },
      "execution_count": null,
      "outputs": [
        {
          "output_type": "execute_result",
          "data": {
            "text/plain": [
              "' your leg is too short'"
            ],
            "application/vnd.google.colaboratory.intrinsic+json": {
              "type": "string"
            }
          },
          "metadata": {},
          "execution_count": 120
        }
      ]
    },
    {
      "cell_type": "markdown",
      "source": [
        "replace(바뀌게 될 문자열, 바꿀 문자열)"
      ],
      "metadata": {
        "id": "QH-6sa3oDx-O"
      }
    },
    {
      "cell_type": "markdown",
      "source": [
        "##문자열 나누기(split)"
      ],
      "metadata": {
        "id": "OW4LetdbDylC"
      }
    },
    {
      "cell_type": "code",
      "source": [
        "a = \"Life is too short\"\n",
        "a.split()"
      ],
      "metadata": {
        "colab": {
          "base_uri": "https://localhost:8080/"
        },
        "id": "nThfj5qCD0-q",
        "outputId": "25da71a9-0424-414e-fb15-e48139a3c272"
      },
      "execution_count": null,
      "outputs": [
        {
          "output_type": "execute_result",
          "data": {
            "text/plain": [
              "['Life', 'is', 'too', 'short']"
            ]
          },
          "metadata": {},
          "execution_count": 121
        }
      ]
    },
    {
      "cell_type": "markdown",
      "source": [
        " a.split()처럼 괄호 안에 아무 값도 넣어 주지 않으면 공백(스페이스, 탭, 엔터 등)을 기준으로 문자열을 나누어 준다."
      ],
      "metadata": {
        "id": "_1pFZqu-EFEF"
      }
    },
    {
      "cell_type": "code",
      "source": [
        "b = \"a:b:c:d\"\n",
        "b.split(':')"
      ],
      "metadata": {
        "colab": {
          "base_uri": "https://localhost:8080/"
        },
        "id": "O5M3ezmaD6Vi",
        "outputId": "465bcdc9-a830-4cf1-d637-09a199f4593d"
      },
      "execution_count": null,
      "outputs": [
        {
          "output_type": "execute_result",
          "data": {
            "text/plain": [
              "['a', 'b', 'c', 'd']"
            ]
          },
          "metadata": {},
          "execution_count": 122
        }
      ]
    },
    {
      "cell_type": "markdown",
      "source": [
        "b.split(':')처럼 괄호 안에 특정 값이 있을 경우에는 괄호 안의 값을 구분자로 해서 문자열을 나누어 준다. "
      ],
      "metadata": {
        "id": "OEO81wS_EHir"
      }
    }
  ]
}